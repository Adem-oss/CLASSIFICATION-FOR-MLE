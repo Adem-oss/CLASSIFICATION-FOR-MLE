{
 "cells": [
  {
   "cell_type": "code",
   "execution_count": 7,
   "metadata": {},
   "outputs": [],
   "source": [
    "import pandas as pd\n",
    "import numpy as np\n",
    "import matplotlib.pyplot as plt\n",
    "# from sklearn import linear_model, metrics, model_selection, feature_selection, pipeline, ensemble, tree\n",
    "from sympy import *\n",
    "from sympy.stats import *"
   ]
  },
  {
   "cell_type": "code",
   "execution_count": 8,
   "metadata": {},
   "outputs": [],
   "source": [
    "h = Function('h')\n",
    "D = IndexedBase('D')\n",
    "i = Symbol('i')\n",
    "m = Symbol('m')\n",
    "n = Symbol('n')\n",
    "A = IndexedBase('A')\n",
    "Y = IndexedBase('Y')\n",
    "Yhat = IndexedBase('Yhat')\n",
    "Z = IndexedBase('Z')"
   ]
  },
  {
   "attachments": {},
   "cell_type": "markdown",
   "metadata": {},
   "source": [
    "## Tasniflendirmede varsayimlar"
   ]
  },
  {
   "cell_type": "code",
   "execution_count": 9,
   "metadata": {},
   "outputs": [],
   "source": [
    "from sklearn import datasets\n",
    "import scipy.stats as scs\n",
    "from ipywidgets import interact"
   ]
  },
  {
   "cell_type": "code",
   "execution_count": 10,
   "metadata": {},
   "outputs": [],
   "source": [
    "np.random.seed(23)\n",
    "X = np.random.randn(100, 2)\n",
    "xx, yy = np.meshgrid(np.linspace(-3, 3, 100), np.linspace(-3, 3.5, 100))"
   ]
  },
  {
   "attachments": {},
   "cell_type": "markdown",
   "metadata": {},
   "source": [
    "Su anda modelin altinda yatan gercek fonksiyonun mahiyetini ihmal ederek, yalnizca modelin [0, 1] araliginda bir cikti verdigini ve bu ciktinin bir Bernoulli rassal degiskeninin $p$ parametresi olarak kullanilip ornek icin bir etiket orneklendigini varsayalim:"
   ]
  },
  {
   "cell_type": "code",
   "execution_count": 11,
   "metadata": {},
   "outputs": [
    {
     "data": {
      "application/vnd.jupyter.widget-view+json": {
       "model_id": "6522ff9f873243dd8d168e1a67a07efd",
       "version_major": 2,
       "version_minor": 0
      },
      "text/plain": [
       "interactive(children=(FloatSlider(value=0.0, description='intersept', max=5.0, min=-5.0), FloatSlider(value=3.…"
      ]
     },
     "metadata": {},
     "output_type": "display_data"
    }
   ],
   "source": [
    "@interact(intersept=(-5,5,0.1), b0=(-10, 10, 0.1), b1=(-10, 10, 0.1))\n",
    "def berno_viz(intersept=0.0, b0=3.0, b1=3.0):\n",
    "    b = np.array([b0, b1])\n",
    "    z = X @ b + intersept\n",
    "    zz = (np.array([xx.ravel(), yy.ravel()]).T @ b + intersept).reshape(xx.shape)\n",
    "\n",
    "\n",
    "    pzz = 1 / (1 + np.exp(-zz))\n",
    "    plt.figure(figsize=(16, 8))\n",
    "    plt.subplot(1, 2, 1)\n",
    "    plt.contourf(xx, yy, pzz, cmap='viridis', vmin=0, vmax=1, levels=20, alpha=0.5)\n",
    "    plt.colorbar().set_label(\"Sucicegi olma olasiligi (Gercek model, $p=f(X)$)\")\n",
    "    berno = 1 / (1 + np.exp(-z))\n",
    "    y = scs.bernoulli.rvs(p=berno)\n",
    "    plt.scatter(X[:, 0], X[:, 1], c=y, s=50, cmap='viridis', edgecolors='k', label='Orneklenen etiketler')\n",
    "    plt.legend()\n",
    "    plt.subplot(1, 2, 2)\n",
    "    # plt.contourf(xx, yy, zz, cmap='viridis', alpha=1.0, levels=20, vmin=-20, vmax=20)\n",
    "    plt.scatter(X[:, 0], X[:, 1], c=berno, s=50, cmap='viridis', edgecolors='k')\n",
    "    plt.colorbar().set_label(\"Ornegin sucicegi olma olasiligi\")\n",
    "\n",
    "    plt.show()"
   ]
  },
  {
   "attachments": {},
   "cell_type": "markdown",
   "metadata": {},
   "source": [
    "Datasetimizi sabitleyelim."
   ]
  },
  {
   "cell_type": "code",
   "execution_count": 13,
   "metadata": {},
   "outputs": [],
   "source": [
    "b = np.array([4.0, 3.9])\n",
    "intersept = 0.0\n",
    "z = X @ b + intersept\n",
    "# her orneklem icin etiketi belirleyecek olan Bernoulli dagiliminin p parametreleri\n",
    "berno = 1 / (1 + np.exp(-z))  # Bu fonksiyonun ne oldugu simdilik onemsiz"
   ]
  },
  {
   "cell_type": "code",
   "execution_count": 14,
   "metadata": {},
   "outputs": [
    {
     "data": {
      "text/plain": [
       "array([9.40956544e-01, 6.43180249e-01, 2.15424734e-01, 2.71489000e-03,\n",
       "       8.35238343e-01, 7.72715899e-01, 8.21188944e-01, 2.99656713e-04,\n",
       "       9.97912223e-01, 1.64779866e-05, 9.63370562e-01, 9.95130636e-01,\n",
       "       6.00662108e-02, 9.87837983e-01, 1.66892722e-02, 9.99416774e-01,\n",
       "       9.99974895e-01, 7.83815094e-03, 7.85438190e-05, 9.11885738e-01,\n",
       "       9.75964026e-01, 9.64008151e-01, 3.86392390e-01, 9.78050317e-01,\n",
       "       2.11211864e-02, 5.63938302e-01, 9.28345606e-01, 4.55902769e-04,\n",
       "       1.98677361e-01, 9.82101739e-01, 1.02462580e-01, 8.54300930e-01,\n",
       "       9.49007733e-01, 9.99999734e-01, 1.36218491e-02, 9.99022652e-01,\n",
       "       9.94560162e-01, 1.10777934e-01, 3.54391642e-01, 6.88733367e-02,\n",
       "       9.61837312e-01, 9.99986637e-01, 8.02929700e-04, 9.99965036e-01,\n",
       "       1.94127975e-01, 8.94776820e-01, 9.93548075e-01, 8.87390348e-02,\n",
       "       6.09543321e-03, 9.41016781e-01, 7.41613519e-01, 7.30436544e-05,\n",
       "       8.60355903e-01, 1.65059908e-04, 1.92259261e-05, 1.45021798e-03,\n",
       "       9.98863061e-01, 7.78385494e-03, 4.49207279e-01, 4.70535697e-02,\n",
       "       9.99699706e-01, 2.18586673e-02, 3.18050358e-01, 9.96077571e-01,\n",
       "       4.98497981e-01, 3.36161629e-01, 2.25500584e-03, 4.26974492e-01,\n",
       "       9.99370177e-01, 4.85728409e-03, 8.55516293e-01, 8.69890748e-01,\n",
       "       3.23082386e-02, 1.37105238e-01, 9.55092134e-01, 9.10872094e-01,\n",
       "       7.39951108e-01, 7.16921188e-01, 3.62650390e-01, 4.63655780e-01,\n",
       "       7.83734722e-01, 5.37320395e-02, 3.90983467e-01, 5.87634551e-02,\n",
       "       4.51505552e-02, 3.03176188e-06, 9.99368331e-01, 5.28793040e-05,\n",
       "       9.96424446e-01, 9.03411576e-01, 9.91987119e-01, 1.70673376e-03,\n",
       "       5.07947959e-02, 9.61467995e-01, 9.31378257e-01, 9.92049469e-01,\n",
       "       1.90781787e-04, 8.37212060e-01, 9.99986243e-01, 8.80745032e-02])"
      ]
     },
     "execution_count": 14,
     "metadata": {},
     "output_type": "execute_result"
    }
   ],
   "source": [
    "berno"
   ]
  },
  {
   "cell_type": "code",
   "execution_count": 16,
   "metadata": {},
   "outputs": [],
   "source": [
    "y = scs.bernoulli.rvs(p=berno)"
   ]
  },
  {
   "cell_type": "code",
   "execution_count": 17,
   "metadata": {},
   "outputs": [
    {
     "data": {
      "text/plain": [
       "array([1, 1, 1, 0, 1, 1, 1, 0, 1, 0, 1, 1, 0, 1, 0, 1, 1, 0, 0, 1, 1, 1,\n",
       "       0, 1, 0, 1, 1, 0, 0, 1, 1, 1, 1, 1, 0, 1, 1, 0, 0, 0, 1, 1, 0, 1,\n",
       "       0, 1, 1, 0, 0, 1, 1, 0, 1, 0, 0, 0, 1, 0, 0, 0, 1, 0, 0, 1, 0, 0,\n",
       "       0, 1, 1, 0, 1, 1, 0, 0, 1, 1, 1, 1, 0, 0, 0, 0, 0, 0, 0, 0, 1, 0,\n",
       "       1, 1, 1, 0, 0, 1, 1, 1, 0, 1, 1, 0], dtype=int64)"
      ]
     },
     "execution_count": 17,
     "metadata": {},
     "output_type": "execute_result"
    }
   ],
   "source": [
    "y"
   ]
  },
  {
   "attachments": {},
   "cell_type": "markdown",
   "metadata": {},
   "source": [
    "Buradan itibaren yukarida gordugumuz katsayilari ve intersepti unutuyoruz.\n",
    "\n",
    "Gozlemledigimiz data `X` ve `y` ile basbasayiz."
   ]
  },
  {
   "cell_type": "code",
   "execution_count": 18,
   "metadata": {},
   "outputs": [
    {
     "data": {
      "text/plain": [
       "<matplotlib.collections.PathCollection at 0x27a287c6af0>"
      ]
     },
     "execution_count": 18,
     "metadata": {},
     "output_type": "execute_result"
    },
    {
     "data": {
      "image/png": "[encoded data removed]",
      "text/plain": [
       "<Figure size 640x480 with 1 Axes>"
      ]
     },
     "metadata": {},
     "output_type": "display_data"
    }
   ],
   "source": [
    "plt.scatter(*X.T, c=y)"
   ]
  },
  {
   "attachments": {},
   "cell_type": "markdown",
   "metadata": {},
   "source": [
    "### Likelihood Fonksiyonu ###"
   ]
  },
  {
   "attachments": {},
   "cell_type": "markdown",
   "metadata": {},
   "source": [
    "Daha once regresyonda, belli kabuller altinda gozlenen veriye gore en olasi hipotezi elde etmemizi saglayacak bir ifade yazmistik.\n",
    "\n",
    "Aynisi tasniflendirme gorevi icin de yapabilir miyiz?\n"
   ]
  },
  {
   "attachments": {},
   "cell_type": "markdown",
   "metadata": {},
   "source": [
    "$$ \\argmax_h{P(h | D)} = \\argmax_h{P(D | h)} $$"
   ]
  },
  {
   "attachments": {},
   "cell_type": "markdown",
   "metadata": {},
   "source": [
    "$$ P(D | h) = \\prod_{i=0}^{m-1}{P(D_i | h)} $$"
   ]
  },
  {
   "attachments": {},
   "cell_type": "markdown",
   "metadata": {},
   "source": [
    "Hipotez fonksiyonumuz $h$'in, herhangi bir girdiyi alip bir olasilik cikti verdigini kabul edelim.\n",
    "\n",
    "$$ h(D_i) \\in [0, 1] $$"
   ]
  },
  {
   "attachments": {},
   "cell_type": "markdown",
   "metadata": {},
   "source": [
    "Fonksiyonumuz, verilen girdi icin;\n",
    "\n",
    "Ornegin, hipotez fonksiyonumuz herhangi bir girdi icin $0.3$ cevabini veriyorsa, $P(y=1 | h)$ kac olur?"
   ]
  },
  {
   "attachments": {},
   "cell_type": "markdown",
   "metadata": {},
   "source": [
    "Hipotezin dogru oldugu kabulu altinda, aslinda hipotezimizin urettigi sayi orneklem icin Bernoulli dagiliminin $p$ parametresidir.\n",
    "\n",
    "Oyleyse, $Bernoulli(0.3)$ rassal degiskeninin 1 gelme ihtimali $0.3$ degil midir? (Ayni sekilde, 0 gelme ihtimali de $1-h(X) = 0.7$ olacaktir.)\n",
    "\n",
    "Bu ifadeyi tek bir orneklem icin asagidaki gibi genelleyebiliriz:"
   ]
  },
  {
   "attachments": {},
   "cell_type": "markdown",
   "metadata": {},
   "source": [
    "$$  P(D_i | h) = h(D_i)^{Y_i} (1 - h(D_i))^{1 - Y_i} $$"
   ]
  },
  {
   "attachments": {},
   "cell_type": "markdown",
   "metadata": {},
   "source": [
    "Tum orneklerin etiketlerinin gozlenme olasiligi ise, dogal olarak, yukaridaki ifadeyi tum ornekler icin hesaplayip birbirleriye carparak elde edilebilir:\n",
    "\n",
    "(Orneklerin birbirinden bagimsiz olduklari kabulu ile)"
   ]
  },
  {
   "attachments": {},
   "cell_type": "markdown",
   "metadata": {},
   "source": [
    "$(1)$\n",
    "$$  P(D | h) = \\prod_{i=0}^{m-1}{h(D_i)^{Y_i} (1 - h(D_i))^{1 - Y_i}} $$\n",
    "\n"
   ]
  },
  {
   "attachments": {},
   "cell_type": "markdown",
   "metadata": {},
   "source": [
    "Logaritmanin monotonik bir fonksiyon oldugunu gormustuk. Oyleyse\n",
    "\n",
    "$$ \\argmax_h{P(D | h)} = \\argmax_h{\\log{P(D | h)}} $$"
   ]
  },
  {
   "attachments": {},
   "cell_type": "markdown",
   "metadata": {},
   "source": [
    "Denklem $(1)$'in logaritmasini alarak asagidaki ifadeye erisebiliriz:"
   ]
  },
  {
   "attachments": {},
   "cell_type": "markdown",
   "metadata": {},
   "source": [
    "$$loglikelihood = \\sum_{i=0}^{m-1}{Y_i \\log{h(D_i)} + (1 - Y_i) \\log{(1 - h(D_i))}} $$"
   ]
  },
  {
   "attachments": {},
   "cell_type": "markdown",
   "metadata": {},
   "source": [
    "Log-likelihood fonksiyonunu maksimize etmek, bunun eksi ile carpilmisini minimize etmeye esit oldugundan; olusan ifadeyi eksi ile carparsak:"
   ]
  },
  {
   "attachments": {},
   "cell_type": "markdown",
   "metadata": {},
   "source": [
    "$$\\argmax_h{\\log{P(D | h)}} = \\argmin_h{-\\log{P(D | h)}}$$\n",
    "$$=\\argmin_h{\\sum_{i=0}^{m-1}{-Y_i \\log{h(D_i)} - (1 - Y_i) \\log{(1 - h(D_i))}} } $$"
   ]
  },
  {
   "attachments": {},
   "cell_type": "markdown",
   "metadata": {},
   "source": [
    "Elde etmis oldugumuz ifade, literaturde **binary cross-entropy loss** olarak gecen ikili capraz entropi kayip fonksiyonudur.\n",
    "\n",
    ">Bu kaybi minimize eden hipotez, *likelihood*'u da ayni zamanda maksimum yapmaktadir."
   ]
  },
  {
   "cell_type": "code",
   "execution_count": 19,
   "metadata": {},
   "outputs": [],
   "source": [
    "def bce(y, yhat):\n",
    "    return -y * np.log(yhat) - (1. - y) * np.log(1. - yhat)"
   ]
  },
  {
   "cell_type": "code",
   "execution_count": 20,
   "metadata": {},
   "outputs": [
    {
     "data": {
      "text/plain": [
       "0.020202707317519466"
      ]
     },
     "execution_count": 20,
     "metadata": {},
     "output_type": "execute_result"
    }
   ],
   "source": [
    "bce(1, 0.98)"
   ]
  },
  {
   "cell_type": "code",
   "execution_count": 21,
   "metadata": {},
   "outputs": [
    {
     "data": {
      "text/plain": [
       "1.4271163556401458"
      ]
     },
     "execution_count": 21,
     "metadata": {},
     "output_type": "execute_result"
    }
   ],
   "source": [
    "bce(1, 0.24)"
   ]
  },
  {
   "cell_type": "code",
   "execution_count": 23,
   "metadata": {},
   "outputs": [
    {
     "data": {
      "text/plain": [
       "0.020202707317519466"
      ]
     },
     "execution_count": 23,
     "metadata": {},
     "output_type": "execute_result"
    }
   ],
   "source": [
    "bce(0, 0.02)"
   ]
  },
  {
   "cell_type": "code",
   "execution_count": 24,
   "metadata": {},
   "outputs": [
    {
     "data": {
      "text/plain": [
       "1.4271163556401458"
      ]
     },
     "execution_count": 24,
     "metadata": {},
     "output_type": "execute_result"
    }
   ],
   "source": [
    "bce(0, 0.76)"
   ]
  },
  {
   "cell_type": "code",
   "execution_count": 26,
   "metadata": {},
   "outputs": [
    {
     "name": "stderr",
     "output_type": "stream",
     "text": [
      "C:\\Users\\kmara\\AppData\\Local\\Temp\\ipykernel_5024\\3237035706.py:2: RuntimeWarning: invalid value encountered in log\n",
      "  return -y * np.log(yhat) - (1. - y) * np.log(1. - yhat)\n"
     ]
    },
    {
     "data": {
      "text/plain": [
       "nan"
      ]
     },
     "execution_count": 26,
     "metadata": {},
     "output_type": "execute_result"
    }
   ],
   "source": [
    "bce(0,9)"
   ]
  },
  {
   "cell_type": "code",
   "execution_count": 29,
   "metadata": {},
   "outputs": [
    {
     "name": "stderr",
     "output_type": "stream",
     "text": [
      "C:\\Users\\kmara\\AppData\\Local\\Temp\\ipykernel_5024\\3237035706.py:2: RuntimeWarning: divide by zero encountered in log\n",
      "  return -y * np.log(yhat) - (1. - y) * np.log(1. - yhat)\n"
     ]
    },
    {
     "data": {
      "text/plain": [
       "inf"
      ]
     },
     "execution_count": 29,
     "metadata": {},
     "output_type": "execute_result"
    }
   ],
   "source": [
    "bce(0,1)"
   ]
  },
  {
   "cell_type": "code",
   "execution_count": 30,
   "metadata": {},
   "outputs": [
    {
     "name": "stderr",
     "output_type": "stream",
     "text": [
      "C:\\Users\\kmara\\AppData\\Local\\Temp\\ipykernel_5024\\3237035706.py:2: RuntimeWarning: divide by zero encountered in log\n",
      "  return -y * np.log(yhat) - (1. - y) * np.log(1. - yhat)\n",
      "C:\\Users\\kmara\\AppData\\Local\\Temp\\ipykernel_5024\\3237035706.py:2: RuntimeWarning: invalid value encountered in double_scalars\n",
      "  return -y * np.log(yhat) - (1. - y) * np.log(1. - yhat)\n"
     ]
    },
    {
     "data": {
      "text/plain": [
       "nan"
      ]
     },
     "execution_count": 30,
     "metadata": {},
     "output_type": "execute_result"
    }
   ],
   "source": [
    "bce(0,0)"
   ]
  },
  {
   "cell_type": "code",
   "execution_count": 22,
   "metadata": {},
   "outputs": [],
   "source": [
    "t = np.linspace(1e-18, 1-1e-18, 100)"
   ]
  },
  {
   "cell_type": "code",
   "execution_count": 25,
   "metadata": {},
   "outputs": [
    {
     "name": "stderr",
     "output_type": "stream",
     "text": [
      "C:\\Users\\kmara\\AppData\\Local\\Temp\\ipykernel_5024\\3237035706.py:2: RuntimeWarning: divide by zero encountered in log\n",
      "  return -y * np.log(yhat) - (1. - y) * np.log(1. - yhat)\n",
      "C:\\Users\\kmara\\AppData\\Local\\Temp\\ipykernel_5024\\3237035706.py:2: RuntimeWarning: invalid value encountered in multiply\n",
      "  return -y * np.log(yhat) - (1. - y) * np.log(1. - yhat)\n"
     ]
    },
    {
     "data": {
      "text/plain": [
       "<matplotlib.legend.Legend at 0x27a2715cdc0>"
      ]
     },
     "execution_count": 25,
     "metadata": {},
     "output_type": "execute_result"
    },
    {
     "data": {
      "image/png": "[encoded data removed]",
      "text/plain": [
       "<Figure size 640x480 with 1 Axes>"
      ]
     },
     "metadata": {},
     "output_type": "display_data"
    }
   ],
   "source": [
    "plt.plot(t, bce(1, t), label='$y=1$')\n",
    "plt.plot(t, bce(0, t), label='$y=0$')\n",
    "plt.legend()"
   ]
  },
  {
   "cell_type": "code",
   "execution_count": 31,
   "metadata": {},
   "outputs": [
    {
     "data": {
      "text/plain": [
       "0.020202707317519466"
      ]
     },
     "execution_count": 31,
     "metadata": {},
     "output_type": "execute_result"
    }
   ],
   "source": [
    "bce(0, 0.02)"
   ]
  },
  {
   "cell_type": "code",
   "execution_count": 33,
   "metadata": {},
   "outputs": [
    {
     "data": {
      "text/plain": [
       "-0.0"
      ]
     },
     "execution_count": 33,
     "metadata": {},
     "output_type": "execute_result"
    }
   ],
   "source": [
    "bce(0, 1e-18)"
   ]
  },
  {
   "cell_type": "code",
   "execution_count": 34,
   "metadata": {},
   "outputs": [
    {
     "data": {
      "text/plain": [
       "18.420680738927608"
      ]
     },
     "execution_count": 34,
     "metadata": {},
     "output_type": "execute_result"
    }
   ],
   "source": [
    "bce(0, 1-1e-8)"
   ]
  },
  {
   "attachments": {},
   "cell_type": "markdown",
   "metadata": {},
   "source": [
    "### Hipotezin mahiyeti"
   ]
  },
  {
   "attachments": {},
   "cell_type": "markdown",
   "metadata": {},
   "source": [
    "Yalnizca $[0, 1]$ araliginda cikti veren hipotez fonksiyonumuzun mahiyetini simdiye kadar ihmal etmistik.\n",
    "\n",
    "Peki yalnizca bu deger araliginda cikti veren bir fonksiyon nasil bir fonksiyon olabilir?"
   ]
  },
  {
   "attachments": {},
   "cell_type": "markdown",
   "metadata": {},
   "source": [
    "Boyle bir fonksiyon elde edebilmek icin olaya tersten yaklasmayi deneyelim:"
   ]
  },
  {
   "cell_type": "code",
   "execution_count": 38,
   "metadata": {},
   "outputs": [
    {
     "data": {
      "text/plain": [
       "0.3794512582952554"
      ]
     },
     "execution_count": 38,
     "metadata": {},
     "output_type": "execute_result"
    }
   ],
   "source": [
    "(np.sin(-3335455511) + 1) / 2"
   ]
  },
  {
   "cell_type": "code",
   "execution_count": 40,
   "metadata": {},
   "outputs": [
    {
     "data": {
      "text/plain": [
       "0.9903051892621146"
      ]
     },
     "execution_count": 40,
     "metadata": {},
     "output_type": "execute_result"
    }
   ],
   "source": [
    "np.abs(np.sin(-234242))"
   ]
  },
  {
   "attachments": {},
   "cell_type": "markdown",
   "metadata": {},
   "source": [
    "### Olasilik, Odds ve Logit\n"
   ]
  },
  {
   "attachments": {},
   "cell_type": "markdown",
   "metadata": {},
   "source": [
    "Asagida olasiligin kendisine karsi bir plotunu goruyorsunuz. Burada ilginc bir olay yok."
   ]
  },
  {
   "cell_type": "code",
   "execution_count": 42,
   "metadata": {},
   "outputs": [],
   "source": [
    "x = Symbol('x')"
   ]
  },
  {
   "cell_type": "code",
   "execution_count": 43,
   "metadata": {},
   "outputs": [
    {
     "data": {
      "image/png": "[encoded data removed]",
      "text/plain": [
       "<Figure size 640x480 with 1 Axes>"
      ]
     },
     "metadata": {},
     "output_type": "display_data"
    }
   ],
   "source": [
    "plot(x, (x, 0, 1), xlabel='p', ylabel='p', title=\"Olasilik vs Olasilik\");"
   ]
  },
  {
   "cell_type": "code",
   "execution_count": 45,
   "metadata": {},
   "outputs": [
    {
     "data": {
      "image/png": "[encoded data removed]",
      "text/plain": [
       "<Figure size 640x480 with 1 Axes>"
      ]
     },
     "metadata": {},
     "output_type": "display_data"
    },
    {
     "data": {
      "text/plain": [
       "<sympy.plotting.plot.Plot at 0x27a269b4f40>"
      ]
     },
     "execution_count": 45,
     "metadata": {},
     "output_type": "execute_result"
    }
   ],
   "source": [
    "plot(x, (x, 0, 1))"
   ]
  },
  {
   "cell_type": "code",
   "execution_count": 48,
   "metadata": {},
   "outputs": [
    {
     "data": {
      "image/png": "[encoded data removed]",
      "text/plain": [
       "<Figure size 640x480 with 1 Axes>"
      ]
     },
     "metadata": {},
     "output_type": "display_data"
    },
    {
     "data": {
      "text/plain": [
       "<sympy.plotting.plot.Plot at 0x27a26752490>"
      ]
     },
     "execution_count": 48,
     "metadata": {},
     "output_type": "execute_result"
    }
   ],
   "source": [
    "plot(log(x), (x, 1e-18, 1))"
   ]
  },
  {
   "cell_type": "code",
   "execution_count": 56,
   "metadata": {},
   "outputs": [
    {
     "name": "stderr",
     "output_type": "stream",
     "text": [
      "C:\\Users\\kmara\\AppData\\Local\\Temp\\ipykernel_5024\\2082769325.py:2: RuntimeWarning: invalid value encountered in power\n",
      "  plt.plot(t, (-.5)**t)\n"
     ]
    },
    {
     "data": {
      "text/plain": [
       "[<matplotlib.lines.Line2D at 0x27a28478580>]"
      ]
     },
     "execution_count": 56,
     "metadata": {},
     "output_type": "execute_result"
    },
    {
     "data": {
      "image/png": "[encoded data removed]",
      "text/plain": [
       "<Figure size 640x480 with 1 Axes>"
      ]
     },
     "metadata": {},
     "output_type": "display_data"
    }
   ],
   "source": [
    "t = np.linspace(0, 1, 1000)\n",
    "plt.plot(t, (-.5)**t)"
   ]
  },
  {
   "cell_type": "code",
   "execution_count": 57,
   "metadata": {},
   "outputs": [
    {
     "name": "stderr",
     "output_type": "stream",
     "text": [
      "C:\\Users\\kmara\\AppData\\Local\\Temp\\ipykernel_5024\\1601107051.py:1: RuntimeWarning: invalid value encountered in power\n",
      "  (-.5)**t\n"
     ]
    },
    {
     "data": {
      "text/plain": [
       "array([ 1. ,  nan,  nan,  nan,  nan,  nan,  nan,  nan,  nan,  nan,  nan,\n",
       "        nan,  nan,  nan,  nan,  nan,  nan,  nan,  nan,  nan,  nan,  nan,\n",
       "        nan,  nan,  nan,  nan,  nan,  nan,  nan,  nan,  nan,  nan,  nan,\n",
       "        nan,  nan,  nan,  nan,  nan,  nan,  nan,  nan,  nan,  nan,  nan,\n",
       "        nan,  nan,  nan,  nan,  nan,  nan,  nan,  nan,  nan,  nan,  nan,\n",
       "        nan,  nan,  nan,  nan,  nan,  nan,  nan,  nan,  nan,  nan,  nan,\n",
       "        nan,  nan,  nan,  nan,  nan,  nan,  nan,  nan,  nan,  nan,  nan,\n",
       "        nan,  nan,  nan,  nan,  nan,  nan,  nan,  nan,  nan,  nan,  nan,\n",
       "        nan,  nan,  nan,  nan,  nan,  nan,  nan,  nan,  nan,  nan,  nan,\n",
       "        nan,  nan,  nan,  nan,  nan,  nan,  nan,  nan,  nan,  nan,  nan,\n",
       "        nan,  nan,  nan,  nan,  nan,  nan,  nan,  nan,  nan,  nan,  nan,\n",
       "        nan,  nan,  nan,  nan,  nan,  nan,  nan,  nan,  nan,  nan,  nan,\n",
       "        nan,  nan,  nan,  nan,  nan,  nan,  nan,  nan,  nan,  nan,  nan,\n",
       "        nan,  nan,  nan,  nan,  nan,  nan,  nan,  nan,  nan,  nan,  nan,\n",
       "        nan,  nan,  nan,  nan,  nan,  nan,  nan,  nan,  nan,  nan,  nan,\n",
       "        nan,  nan,  nan,  nan,  nan,  nan,  nan,  nan,  nan,  nan,  nan,\n",
       "        nan,  nan,  nan,  nan,  nan,  nan,  nan,  nan,  nan,  nan,  nan,\n",
       "        nan,  nan,  nan,  nan,  nan,  nan,  nan,  nan,  nan,  nan,  nan,\n",
       "        nan,  nan,  nan,  nan,  nan,  nan,  nan,  nan,  nan,  nan,  nan,\n",
       "        nan,  nan,  nan,  nan,  nan,  nan,  nan,  nan,  nan,  nan,  nan,\n",
       "        nan,  nan,  nan,  nan,  nan,  nan,  nan,  nan,  nan,  nan,  nan,\n",
       "        nan,  nan,  nan,  nan,  nan,  nan,  nan,  nan,  nan,  nan,  nan,\n",
       "        nan,  nan,  nan,  nan,  nan,  nan,  nan,  nan,  nan,  nan,  nan,\n",
       "        nan,  nan,  nan,  nan,  nan,  nan,  nan,  nan,  nan,  nan,  nan,\n",
       "        nan,  nan,  nan,  nan,  nan,  nan,  nan,  nan,  nan,  nan,  nan,\n",
       "        nan,  nan,  nan,  nan,  nan,  nan,  nan,  nan,  nan,  nan,  nan,\n",
       "        nan,  nan,  nan,  nan,  nan,  nan,  nan,  nan,  nan,  nan,  nan,\n",
       "        nan,  nan,  nan,  nan,  nan,  nan,  nan,  nan,  nan,  nan,  nan,\n",
       "        nan,  nan,  nan,  nan,  nan,  nan,  nan,  nan,  nan,  nan,  nan,\n",
       "        nan,  nan,  nan,  nan,  nan,  nan,  nan,  nan,  nan,  nan,  nan,\n",
       "        nan,  nan,  nan,  nan,  nan,  nan,  nan,  nan,  nan,  nan,  nan,\n",
       "        nan,  nan,  nan,  nan,  nan,  nan,  nan,  nan,  nan,  nan,  nan,\n",
       "        nan,  nan,  nan,  nan,  nan,  nan,  nan,  nan,  nan,  nan,  nan,\n",
       "        nan,  nan,  nan,  nan,  nan,  nan,  nan,  nan,  nan,  nan,  nan,\n",
       "        nan,  nan,  nan,  nan,  nan,  nan,  nan,  nan,  nan,  nan,  nan,\n",
       "        nan,  nan,  nan,  nan,  nan,  nan,  nan,  nan,  nan,  nan,  nan,\n",
       "        nan,  nan,  nan,  nan,  nan,  nan,  nan,  nan,  nan,  nan,  nan,\n",
       "        nan,  nan,  nan,  nan,  nan,  nan,  nan,  nan,  nan,  nan,  nan,\n",
       "        nan,  nan,  nan,  nan,  nan,  nan,  nan,  nan,  nan,  nan,  nan,\n",
       "        nan,  nan,  nan,  nan,  nan,  nan,  nan,  nan,  nan,  nan,  nan,\n",
       "        nan,  nan,  nan,  nan,  nan,  nan,  nan,  nan,  nan,  nan,  nan,\n",
       "        nan,  nan,  nan,  nan,  nan,  nan,  nan,  nan,  nan,  nan,  nan,\n",
       "        nan,  nan,  nan,  nan,  nan,  nan,  nan,  nan,  nan,  nan,  nan,\n",
       "        nan,  nan,  nan,  nan,  nan,  nan,  nan,  nan,  nan,  nan,  nan,\n",
       "        nan,  nan,  nan,  nan,  nan,  nan,  nan,  nan,  nan,  nan,  nan,\n",
       "        nan,  nan,  nan,  nan,  nan,  nan,  nan,  nan,  nan,  nan,  nan,\n",
       "        nan,  nan,  nan,  nan,  nan,  nan,  nan,  nan,  nan,  nan,  nan,\n",
       "        nan,  nan,  nan,  nan,  nan,  nan,  nan,  nan,  nan,  nan,  nan,\n",
       "        nan,  nan,  nan,  nan,  nan,  nan,  nan,  nan,  nan,  nan,  nan,\n",
       "        nan,  nan,  nan,  nan,  nan,  nan,  nan,  nan,  nan,  nan,  nan,\n",
       "        nan,  nan,  nan,  nan,  nan,  nan,  nan,  nan,  nan,  nan,  nan,\n",
       "        nan,  nan,  nan,  nan,  nan,  nan,  nan,  nan,  nan,  nan,  nan,\n",
       "        nan,  nan,  nan,  nan,  nan,  nan,  nan,  nan,  nan,  nan,  nan,\n",
       "        nan,  nan,  nan,  nan,  nan,  nan,  nan,  nan,  nan,  nan,  nan,\n",
       "        nan,  nan,  nan,  nan,  nan,  nan,  nan,  nan,  nan,  nan,  nan,\n",
       "        nan,  nan,  nan,  nan,  nan,  nan,  nan,  nan,  nan,  nan,  nan,\n",
       "        nan,  nan,  nan,  nan,  nan,  nan,  nan,  nan,  nan,  nan,  nan,\n",
       "        nan,  nan,  nan,  nan,  nan,  nan,  nan,  nan,  nan,  nan,  nan,\n",
       "        nan,  nan,  nan,  nan,  nan,  nan,  nan,  nan,  nan,  nan,  nan,\n",
       "        nan,  nan,  nan,  nan,  nan,  nan,  nan,  nan,  nan,  nan,  nan,\n",
       "        nan,  nan,  nan,  nan,  nan,  nan,  nan,  nan,  nan,  nan,  nan,\n",
       "        nan,  nan,  nan,  nan,  nan,  nan,  nan,  nan,  nan,  nan,  nan,\n",
       "        nan,  nan,  nan,  nan,  nan,  nan,  nan,  nan,  nan,  nan,  nan,\n",
       "        nan,  nan,  nan,  nan,  nan,  nan,  nan,  nan,  nan,  nan,  nan,\n",
       "        nan,  nan,  nan,  nan,  nan,  nan,  nan,  nan,  nan,  nan,  nan,\n",
       "        nan,  nan,  nan,  nan,  nan,  nan,  nan,  nan,  nan,  nan,  nan,\n",
       "        nan,  nan,  nan,  nan,  nan,  nan,  nan,  nan,  nan,  nan,  nan,\n",
       "        nan,  nan,  nan,  nan,  nan,  nan,  nan,  nan,  nan,  nan,  nan,\n",
       "        nan,  nan,  nan,  nan,  nan,  nan,  nan,  nan,  nan,  nan,  nan,\n",
       "        nan,  nan,  nan,  nan,  nan,  nan,  nan,  nan,  nan,  nan,  nan,\n",
       "        nan,  nan,  nan,  nan,  nan,  nan,  nan,  nan,  nan,  nan,  nan,\n",
       "        nan,  nan,  nan,  nan,  nan,  nan,  nan,  nan,  nan,  nan,  nan,\n",
       "        nan,  nan,  nan,  nan,  nan,  nan,  nan,  nan,  nan,  nan,  nan,\n",
       "        nan,  nan,  nan,  nan,  nan,  nan,  nan,  nan,  nan,  nan,  nan,\n",
       "        nan,  nan,  nan,  nan,  nan,  nan,  nan,  nan,  nan,  nan,  nan,\n",
       "        nan,  nan,  nan,  nan,  nan,  nan,  nan,  nan,  nan,  nan,  nan,\n",
       "        nan,  nan,  nan,  nan,  nan,  nan,  nan,  nan,  nan,  nan,  nan,\n",
       "        nan,  nan,  nan,  nan,  nan,  nan,  nan,  nan,  nan,  nan,  nan,\n",
       "        nan,  nan,  nan,  nan,  nan,  nan,  nan,  nan,  nan,  nan,  nan,\n",
       "        nan,  nan,  nan,  nan,  nan,  nan,  nan,  nan,  nan,  nan,  nan,\n",
       "        nan,  nan,  nan,  nan,  nan,  nan,  nan,  nan,  nan,  nan,  nan,\n",
       "        nan,  nan,  nan,  nan,  nan,  nan,  nan,  nan,  nan,  nan,  nan,\n",
       "        nan,  nan,  nan,  nan,  nan,  nan,  nan,  nan,  nan,  nan,  nan,\n",
       "        nan,  nan,  nan,  nan,  nan,  nan,  nan,  nan,  nan,  nan,  nan,\n",
       "        nan,  nan,  nan,  nan,  nan,  nan,  nan,  nan,  nan,  nan,  nan,\n",
       "        nan,  nan,  nan,  nan,  nan,  nan,  nan,  nan,  nan,  nan,  nan,\n",
       "        nan,  nan,  nan,  nan,  nan,  nan,  nan,  nan,  nan,  nan,  nan,\n",
       "        nan,  nan,  nan,  nan,  nan,  nan,  nan,  nan,  nan,  nan,  nan,\n",
       "        nan,  nan,  nan,  nan,  nan,  nan,  nan,  nan,  nan,  nan,  nan,\n",
       "        nan,  nan,  nan,  nan,  nan,  nan,  nan,  nan,  nan,  nan,  nan,\n",
       "        nan,  nan,  nan,  nan,  nan,  nan,  nan,  nan,  nan, -0.5])"
      ]
     },
     "execution_count": 57,
     "metadata": {},
     "output_type": "execute_result"
    }
   ],
   "source": [
    "(-.5)**t"
   ]
  },
  {
   "cell_type": "code",
   "execution_count": null,
   "metadata": {},
   "outputs": [],
   "source": []
  },
  {
   "cell_type": "code",
   "execution_count": 53,
   "metadata": {},
   "outputs": [
    {
     "name": "stderr",
     "output_type": "stream",
     "text": [
      "<string>:1: RuntimeWarning: invalid value encountered in double_scalars\n"
     ]
    },
    {
     "data": {
      "image/png": "[encoded data removed]",
      "text/plain": [
       "<Figure size 640x480 with 1 Axes>"
      ]
     },
     "metadata": {},
     "output_type": "display_data"
    },
    {
     "data": {
      "text/plain": [
       "<sympy.plotting.plot.Plot at 0x27a273e4850>"
      ]
     },
     "execution_count": 53,
     "metadata": {},
     "output_type": "execute_result"
    }
   ],
   "source": [
    "plot((-.5)**-x, (x, 0, 1))"
   ]
  },
  {
   "attachments": {},
   "cell_type": "markdown",
   "metadata": {},
   "source": [
    "#### Odds\n"
   ]
  },
  {
   "attachments": {},
   "cell_type": "markdown",
   "metadata": {},
   "source": [
    "Odds kavraminin Turkce'deki karsiligi *oran(?)* olup, \n",
    "\n",
    "$$\\frac{p}{1-p}$$\n",
    "\n",
    "seklinde ifade edilmektedir."
   ]
  },
  {
   "cell_type": "code",
   "execution_count": 58,
   "metadata": {},
   "outputs": [
    {
     "data": {
      "image/png": "[encoded data removed]",
      "text/plain": [
       "<Figure size 640x480 with 1 Axes>"
      ]
     },
     "metadata": {},
     "output_type": "display_data"
    }
   ],
   "source": [
    "plot(x/(1-x), (x, 0., 1.), title='Olasilik vs odds', xlabel='p', ylabel=r'$\\frac{p}{1-p}$');"
   ]
  },
  {
   "attachments": {},
   "cell_type": "markdown",
   "metadata": {},
   "source": [
    "Bu ifadenin $[0, 1]$ araligindaki olasiligi $[0, \\infty]$ araligina haritaladigini goruyorsunuz."
   ]
  },
  {
   "attachments": {},
   "cell_type": "markdown",
   "metadata": {},
   "source": [
    "#### Logit"
   ]
  },
  {
   "attachments": {},
   "cell_type": "markdown",
   "metadata": {},
   "source": [
    "Son olarak, elde etmis oldugumuz *odds* degerinin logaritmasini alirsak:"
   ]
  },
  {
   "cell_type": "code",
   "execution_count": 33,
   "metadata": {},
   "outputs": [
    {
     "data": {
      "text/latex": [
       "$\\displaystyle \\log{\\left(\\frac{x}{1 - x} \\right)}$"
      ],
      "text/plain": [
       "log(x/(1 - x))"
      ]
     },
     "execution_count": 33,
     "metadata": {},
     "output_type": "execute_result"
    }
   ],
   "source": [
    "log(x/(1-x))"
   ]
  },
  {
   "cell_type": "code",
   "execution_count": 59,
   "metadata": {},
   "outputs": [
    {
     "data": {
      "image/png": "[encoded data removed]",
      "text/plain": [
       "<Figure size 640x480 with 1 Axes>"
      ]
     },
     "metadata": {},
     "output_type": "display_data"
    }
   ],
   "source": [
    "plot(\n",
    "    log(x/(1-x)),\n",
    "    (x, 1e-18, 1. - 1e-18), \n",
    "    title='logit', xlabel='p', ylabel=r'$\\log \\frac{p}{1-p}$');"
   ]
  },
  {
   "cell_type": "code",
   "execution_count": 61,
   "metadata": {},
   "outputs": [
    {
     "data": {
      "image/png": "[encoded data removed]",
      "text/plain": [
       "<Figure size 640x480 with 1 Axes>"
      ]
     },
     "metadata": {},
     "output_type": "display_data"
    },
    {
     "data": {
      "text/plain": [
       "<sympy.plotting.plot.Plot at 0x27a285c53a0>"
      ]
     },
     "execution_count": 61,
     "metadata": {},
     "output_type": "execute_result"
    }
   ],
   "source": [
    "plot(exp(x) / (exp(x) +1))"
   ]
  },
  {
   "attachments": {},
   "cell_type": "markdown",
   "metadata": {},
   "source": [
    "Artik elimizde $[0, 1]$ araligindaki bir degeri $[-\\infty, \\infty]$ araligina haritalayan bir fonksiyon bulunmakta."
   ]
  },
  {
   "attachments": {},
   "cell_type": "markdown",
   "metadata": {},
   "source": [
    "Bu fonksiyonun tersini alarak herhangi bir $[-\\infty, \\infty]$ araligindaki herhangi bir $x \\in \\mathbb{R}$ sayisini $[0, 1]$ araligina haritalayabiliriz."
   ]
  },
  {
   "cell_type": "code",
   "execution_count": 60,
   "metadata": {},
   "outputs": [
    {
     "data": {
      "text/latex": [
       "$\\displaystyle x = \\log{\\left(\\frac{1}{1 - p} \\right)}$"
      ],
      "text/plain": [
       "Eq(x, log(1/(1 - p)))"
      ]
     },
     "metadata": {},
     "output_type": "display_data"
    },
    {
     "data": {
      "text/latex": [
       "$\\displaystyle e^{x} = \\frac{p}{1 - p}$"
      ],
      "text/plain": [
       "Eq(exp(x), p/(1 - p))"
      ]
     },
     "metadata": {},
     "output_type": "display_data"
    },
    {
     "data": {
      "text/latex": [
       "$\\displaystyle e^{- x} = \\frac{1 - p}{p}$"
      ],
      "text/plain": [
       "Eq(exp(-x), (1 - p)/p)"
      ]
     },
     "metadata": {},
     "output_type": "display_data"
    },
    {
     "data": {
      "text/latex": [
       "$\\displaystyle e^{- x} = \\frac{1 - p}{p}$"
      ],
      "text/plain": [
       "Eq(exp(-x), (1 - p)/p)"
      ]
     },
     "metadata": {},
     "output_type": "display_data"
    },
    {
     "data": {
      "text/latex": [
       "$\\displaystyle e^{- x} = -1 + \\frac{1}{p}$"
      ],
      "text/plain": [
       "Eq(exp(-x), -1 + 1/p)"
      ]
     },
     "metadata": {},
     "output_type": "display_data"
    },
    {
     "data": {
      "text/latex": [
       "$\\displaystyle p = \\frac{1}{1 + e^{- x}}$"
      ],
      "text/plain": [
       "Eq(p, 1/(1 + exp(-x)))"
      ]
     },
     "metadata": {},
     "output_type": "display_data"
    }
   ],
   "source": [
    "p = Symbol('p')\n",
    "\n",
    "display(Eq(x, log(1/(1-p))))\n",
    "display(Eq(exp(x), p/(1-p)))\n",
    "display(Eq(exp(-x), (1-p)/p))\n",
    "display(Eq(exp(-x), (1-p)/p))\n",
    "display(Eq(exp(-x), 1/p - 1))\n",
    "display(Eq(p, 1/(1+exp(-x))))\n"
   ]
  },
  {
   "attachments": {},
   "cell_type": "markdown",
   "metadata": {},
   "source": [
    "Kucuk bir manipulasyonla fonksiyonun tersini alarak elde etmis oldugumuz bu ifade, tanidik gelmekte midir?\n",
    "\n",
    "$$ p = \\frac{1}{1 + e^{-x}}$$\n",
    "\n",
    "> Sigmoid(lojistik) fonksiyonu"
   ]
  },
  {
   "cell_type": "code",
   "execution_count": 38,
   "metadata": {},
   "outputs": [
    {
     "data": {
      "image/png": "[encoded data removed]",
      "text/plain": [
       "<Figure size 432x288 with 1 Axes>"
      ]
     },
     "metadata": {
      "needs_background": "light"
     },
     "output_type": "display_data"
    }
   ],
   "source": [
    "plot(1/(1 + exp(-x)), ylabel=p);"
   ]
  },
  {
   "cell_type": "code",
   "execution_count": 171,
   "metadata": {},
   "outputs": [],
   "source": [
    "def sigmoid(x):\n",
    "    return 1. / (1. + np.exp(-x))"
   ]
  },
  {
   "cell_type": "code",
   "execution_count": 172,
   "metadata": {},
   "outputs": [
    {
     "data": {
      "text/plain": [
       "0.9999546021312976"
      ]
     },
     "execution_count": 172,
     "metadata": {},
     "output_type": "execute_result"
    }
   ],
   "source": [
    "sigmoid(10.)"
   ]
  },
  {
   "cell_type": "code",
   "execution_count": 173,
   "metadata": {},
   "outputs": [
    {
     "data": {
      "text/plain": [
       "4.5397868702434395e-05"
      ]
     },
     "execution_count": 173,
     "metadata": {},
     "output_type": "execute_result"
    }
   ],
   "source": [
    "sigmoid(-10.)"
   ]
  },
  {
   "cell_type": "code",
   "execution_count": 174,
   "metadata": {},
   "outputs": [
    {
     "data": {
      "text/plain": [
       "0.5"
      ]
     },
     "execution_count": 174,
     "metadata": {},
     "output_type": "execute_result"
    }
   ],
   "source": [
    "sigmoid(0.)"
   ]
  },
  {
   "attachments": {},
   "cell_type": "markdown",
   "metadata": {},
   "source": [
    "### Sigmoid isiginda hipoteze tekrar bakis"
   ]
  },
  {
   "attachments": {},
   "cell_type": "markdown",
   "metadata": {},
   "source": [
    "Elimizde $[-\\infty, \\infty]$ araliginda bir degeri $[0, 1]$  araligina haritalayan sigmoid fonksiyonu bulunduguna gore, hipotezimize tekrar bakalim."
   ]
  },
  {
   "attachments": {},
   "cell_type": "markdown",
   "metadata": {},
   "source": [
    "$$h(x) = \\frac{1}{1 + e^{-g(x)}}$$"
   ]
  },
  {
   "attachments": {},
   "cell_type": "markdown",
   "metadata": {},
   "source": [
    "Hipotezimizin son adimi sigmoid fonksiyonu olacak sekilde, $g(x)$ fonksiyonu hakkinda gorece serbest davranabiliriz (lineer, polinomiyel, logaritmik, ...)."
   ]
  },
  {
   "attachments": {},
   "cell_type": "markdown",
   "metadata": {},
   "source": [
    "Baslangic olarak $g(x)$ fonksiyonunun lineer bir fonksiyon oldugunu kabul edelim:\n",
    "\n",
    "$$g(x) = ax + b$$\n",
    "\n",
    "Bu durumda hipotez fonksiyonumuz suna donusecektir:\n",
    "\n",
    "$$  h(x) = \\frac{1}{1 + e^{-(ax + b)}}$$"
   ]
  },
  {
   "attachments": {},
   "cell_type": "markdown",
   "metadata": {},
   "source": [
    "Boyle bir hipotezin $a$,$b$ parametrelerini, maksimum likelihood'u (ya da minimum capraz entropiyi) verecek sekilde nasil optimize ederiz?"
   ]
  },
  {
   "attachments": {},
   "cell_type": "markdown",
   "metadata": {},
   "source": [
    "### Binary cross-entropy kayip fonksiyonu icin GD guncelleme kurali"
   ]
  },
  {
   "attachments": {},
   "cell_type": "markdown",
   "metadata": {},
   "source": [
    "#### Opsiyon 1"
   ]
  },
  {
   "attachments": {},
   "cell_type": "markdown",
   "metadata": {},
   "source": [
    "$$ J(\\hat{Y}) = \\sum_{i=0}^{m-1}{-Y_i \\log{\\hat{Y}_i} - (1 - Y_i) \\log{(1 - \\hat{Y}_i)}} $$\n"
   ]
  },
  {
   "attachments": {},
   "cell_type": "markdown",
   "metadata": {},
   "source": [
    "Hipotez fonksiyonumuzu  $\\hat{Y}$ yerine koyarsak:\n",
    "\n",
    "($a$ ve $b$ parametrelerini $\\beta$ gibi tek bir matris parametre olacak sekilde birlestirerek)"
   ]
  },
  {
   "attachments": {},
   "cell_type": "markdown",
   "metadata": {},
   "source": [
    "$$ J(\\hat{Y}) = \\sum_{i=0}^{m-1}{-Y_i \\log{\\frac{1}{1+e^{-(X_i \\beta)}}} - (1 - Y_i) \\log{(1 - \\frac{1}{1+e^{-(X_i \\beta)}})}} $$\n"
   ]
  },
  {
   "attachments": {},
   "cell_type": "markdown",
   "metadata": {},
   "source": [
    "Bu ifadenin $\\beta$'ya gore dogrudan turevlerini alip, $\\beta$'yi guncelleyerek maliyeti minimize edebiliriz."
   ]
  },
  {
   "attachments": {},
   "cell_type": "markdown",
   "metadata": {},
   "source": [
    "#### Opsiyon 2"
   ]
  },
  {
   "attachments": {},
   "cell_type": "markdown",
   "metadata": {},
   "source": [
    "Kaybi hesaplarken adim adim giderek hesaplama yapiyorsak, turevi de parca parca hesaplayip **zincir kurali** ile her bir parametre icin turevleri bulamaz miyiz?"
   ]
  },
  {
   "attachments": {},
   "cell_type": "markdown",
   "metadata": {},
   "source": [
    "Hesaplamamizda 3 adim var:"
   ]
  },
  {
   "attachments": {},
   "cell_type": "markdown",
   "metadata": {},
   "source": [
    "(1)\n",
    "$$ Z_i = X_i \\beta $$\n"
   ]
  },
  {
   "attachments": {},
   "cell_type": "markdown",
   "metadata": {},
   "source": [
    "$(2)$\n",
    "$$ \\hat{Y_i} = \\frac{1}{1 + e^{-Z_i}} $$"
   ]
  },
  {
   "attachments": {},
   "cell_type": "markdown",
   "metadata": {},
   "source": [
    "$(3)$\n",
    "$$ J(\\hat{Y}) = \\sum_{i=0}^{m-1}{-Y_i \\log{\\hat{Y}_i} - (1 - Y_i) \\log{(1 - \\hat{Y}_i)}} $$"
   ]
  },
  {
   "attachments": {},
   "cell_type": "markdown",
   "metadata": {},
   "source": [
    "Turevlere parca parca bakalim:"
   ]
  },
  {
   "attachments": {},
   "cell_type": "markdown",
   "metadata": {},
   "source": [
    "---"
   ]
  },
  {
   "attachments": {},
   "cell_type": "markdown",
   "metadata": {},
   "source": [
    "$(3)$ icin: \n",
    "\n",
    "$$ J(\\hat{Y}) = \\sum_{i=0}^{m-1}{-Y_i \\log{\\hat{Y}_i} - (1 - Y_i) \\log{(1 - \\hat{Y}_i)}} $$\n",
    "$$ \\frac{dJ}{d\\hat{Y}} = \\frac{1 - Y_i}{1 - \\hat{Y}_i} - \\frac{Y_i}{\\hat{Y}_i} $$\n"
   ]
  },
  {
   "attachments": {},
   "cell_type": "markdown",
   "metadata": {},
   "source": [
    "---"
   ]
  },
  {
   "attachments": {},
   "cell_type": "markdown",
   "metadata": {},
   "source": [
    "$(2)$ icin:\n",
    "$$ \\hat{Y_i} = \\frac{1}{1 + e^{-Z_i}} $$\n",
    "$$ \\ln{\\hat{Y_i}} = - \\ln{(1 + e^{-Z_i})} $$\n",
    "$$ \\frac{\\frac{d\\hat{Y_i}}{d{Z_i}}}{\\hat{Y_i}} = \\frac{e^{-Z_i}}{(1 + e^{-Z_i})}  $$\n",
    "$$ \\frac{\\frac{d\\hat{Y_i}}{d{Z_i}}}{\\hat{Y_i}} = \\frac{(1 + e^{-Z_i})}{(1 + e^{-Z_i})} - \\frac{1}{(1 + e^{-Z_i})}  $$\n",
    "$$ \\frac{\\frac{d\\hat{Y_i}}{d{Z_i}}}{\\hat{Y_i}} = 1 - \\hat{Y_i}  $$\n",
    "$$ \\frac{d\\hat{Y_i}}{d{Z_i}} = (1 - \\hat{Y_i}) \\hat{Y_i}  $$\n"
   ]
  },
  {
   "attachments": {},
   "cell_type": "markdown",
   "metadata": {},
   "source": [
    "---\n"
   ]
  },
  {
   "attachments": {},
   "cell_type": "markdown",
   "metadata": {},
   "source": [
    "$(1)$  icin:\n",
    "$$ \\frac{dZ_i}{d \\beta} = X_i$$\n"
   ]
  },
  {
   "attachments": {},
   "cell_type": "markdown",
   "metadata": {},
   "source": [
    "---"
   ]
  },
  {
   "attachments": {},
   "cell_type": "markdown",
   "metadata": {},
   "source": [
    "Sonuc olarak, zincir kuralinindan yararlanarak parcali turevleri carpip katsayilara gore turevi bulabiliriz:"
   ]
  },
  {
   "attachments": {},
   "cell_type": "markdown",
   "metadata": {},
   "source": [
    "\n",
    "\n",
    "\n",
    "$$ \\frac{dJ}{d\\beta} = \\frac{dJ}{d\\hat{Y_i}} \\frac{d \\hat{Y_i}}{d Z_i} \\frac{d Z_i}{d \\beta}$$\n"
   ]
  },
  {
   "attachments": {},
   "cell_type": "markdown",
   "metadata": {},
   "source": [
    "\n",
    "\n",
    "$$ \\frac{dJ}{d \\beta} =X_i^T (\\frac{1 - Y_i}{1 - \\hat{Y}_i} - \\frac{Y_i}{\\hat{Y}_i}) (1 - \\hat{Y_i}) \\hat{Y_i}  $$\n"
   ]
  },
  {
   "cell_type": "code",
   "execution_count": 84,
   "metadata": {},
   "outputs": [],
   "source": [
    "LR = 1e-2\n",
    "\n",
    "beta = np.random.randn(2,1)\n",
    "sabit = 0.0\n",
    "y1 = y[:, None]\n",
    "\n"
   ]
  },
  {
   "cell_type": "code",
   "execution_count": 116,
   "metadata": {},
   "outputs": [],
   "source": [
    "\n",
    "z = X @ beta + sabit\n",
    "yhat = 1. / (1. + np.exp(-z))\n"
   ]
  },
  {
   "cell_type": "code",
   "execution_count": 117,
   "metadata": {},
   "outputs": [
    {
     "data": {
      "text/plain": [
       "0.25656973242539755"
      ]
     },
     "execution_count": 117,
     "metadata": {},
     "output_type": "execute_result"
    }
   ],
   "source": [
    "(- y1 * np.log(yhat) - (1. - y1) * np.log(1. - yhat)).mean()"
   ]
  },
  {
   "cell_type": "code",
   "execution_count": 114,
   "metadata": {},
   "outputs": [],
   "source": [
    "z = X @ beta + sabit\n",
    "\n",
    "\n",
    "yhat = 1. / (1. + np.exp(-z))\n",
    "\n",
    "\n",
    "dbeta = X.T @ (((1-y1) / (1-yhat) - y1 / yhat) * (1-yhat) * yhat)\n",
    "\n",
    "dsabit = (((1-y1) / (1-yhat) - y1 / yhat) * (1-yhat) * yhat).sum()\n",
    "\n",
    "beta = beta - LR * dbeta\n",
    "sabit = sabit - LR * dsabit\n",
    "\n"
   ]
  },
  {
   "cell_type": "code",
   "execution_count": 115,
   "metadata": {},
   "outputs": [
    {
     "data": {
      "text/plain": [
       "0.25656973242539755"
      ]
     },
     "execution_count": 115,
     "metadata": {},
     "output_type": "execute_result"
    }
   ],
   "source": [
    "z = X @ beta + sabit\n",
    "\n",
    "yhat = 1. / (1. + np.exp(-z))\n",
    "(- y1 * np.log(yhat) - (1. - y1) * np.log(1. - yhat)).mean()"
   ]
  },
  {
   "cell_type": "code",
   "execution_count": 157,
   "metadata": {},
   "outputs": [],
   "source": [
    "for i in range(1000):\n",
    "    z = X @ beta + sabit\n",
    "\n",
    "\n",
    "    yhat = 1. / (1. + np.exp(-z))\n",
    "\n",
    "\n",
    "    dbeta = X.T @ (((1-y1) / (1-yhat) - y1 / yhat) * (1-yhat) * yhat)\n",
    "\n",
    "    dsabit = (((1-y1) / (1-yhat) - y1 / yhat) * (1-yhat) * yhat).sum()\n",
    "\n",
    "    beta = beta - LR * dbeta\n",
    "    sabit = sabit - LR * dsabit"
   ]
  },
  {
   "cell_type": "code",
   "execution_count": 158,
   "metadata": {},
   "outputs": [
    {
     "data": {
      "text/plain": [
       "0.15114398517857416"
      ]
     },
     "execution_count": 158,
     "metadata": {},
     "output_type": "execute_result"
    }
   ],
   "source": [
    "z = X @ beta + sabit\n",
    "\n",
    "yhat = 1. / (1. + np.exp(-z))\n",
    "(- y1 * np.log(yhat) - (1. - y1) * np.log(1. - yhat)).mean()"
   ]
  },
  {
   "cell_type": "code",
   "execution_count": null,
   "metadata": {},
   "outputs": [],
   "source": []
  },
  {
   "cell_type": "code",
   "execution_count": null,
   "metadata": {},
   "outputs": [],
   "source": []
  },
  {
   "cell_type": "code",
   "execution_count": null,
   "metadata": {},
   "outputs": [],
   "source": []
  },
  {
   "cell_type": "code",
   "execution_count": null,
   "metadata": {},
   "outputs": [],
   "source": []
  },
  {
   "attachments": {},
   "cell_type": "markdown",
   "metadata": {},
   "source": [
    "Elde ettigimiz guncelleme kuralini kullanmaya baslamadan once parametrelere gore maliyet yuzeyimize bir bakalim:"
   ]
  },
  {
   "cell_type": "code",
   "execution_count": 161,
   "metadata": {},
   "outputs": [
    {
     "name": "stderr",
     "output_type": "stream",
     "text": [
      "C:\\Users\\kmara\\AppData\\Local\\Temp\\ipykernel_5024\\952933424.py:5: RuntimeWarning: divide by zero encountered in log\n",
      "  jj = -np.log(pp) * y[:, None] - np.log(1. - pp) * (1. - y[:, None])\n",
      "C:\\Users\\kmara\\AppData\\Local\\Temp\\ipykernel_5024\\952933424.py:5: RuntimeWarning: invalid value encountered in multiply\n",
      "  jj = -np.log(pp) * y[:, None] - np.log(1. - pp) * (1. - y[:, None])\n"
     ]
    },
    {
     "data": {
      "image/png": "[encoded data removed]",
      "text/plain": [
       "<Figure size 640x480 with 2 Axes>"
      ]
     },
     "metadata": {},
     "output_type": "display_data"
    }
   ],
   "source": [
    "bb0, bb1 = np.meshgrid(np.linspace(-10, 10, 100), np.linspace(-10, 10, 100))\n",
    "bb = np.array([bb0.ravel(), bb1.ravel()]).T\n",
    "ll = (X @ bb.T)\n",
    "pp = 1 / (1 + np.exp(-ll))\n",
    "jj = -np.log(pp) * y[:, None] - np.log(1. - pp) * (1. - y[:, None])\n",
    "jj = jj.mean(axis=0).reshape(bb0.shape)\n",
    "\n",
    "plt.contourf(bb0, bb1, np.log(jj), levels=100)\n",
    "plt.xlabel(r\"$\\beta_0$\")\n",
    "plt.ylabel(r\"$\\beta_1$\")\n",
    "plt.colorbar().set_label(r\"$\\log{J(\\beta_0, \\beta_1)}$\");"
   ]
  },
  {
   "attachments": {},
   "cell_type": "markdown",
   "metadata": {},
   "source": [
    "Katsayilarimiz icin bir baslangic noktasi secelim: $\\beta = (-7.5, -7.5)$"
   ]
  },
  {
   "attachments": {},
   "cell_type": "markdown",
   "metadata": {},
   "source": [
    "Asagida bu baslangic noktasi icin hipotez fonksiyonumuzun ciktisini gormektesiniz:"
   ]
  },
  {
   "cell_type": "code",
   "execution_count": 175,
   "metadata": {},
   "outputs": [
    {
     "data": {
      "text/plain": [
       "Text(0, 0.5, '$x_2$')"
      ]
     },
     "execution_count": 175,
     "metadata": {},
     "output_type": "execute_result"
    },
    {
     "data": {
      "image/png": "[encoded data removed]",
      "text/plain": [
       "<Figure size 640x480 with 2 Axes>"
      ]
     },
     "metadata": {},
     "output_type": "display_data"
    }
   ],
   "source": [
    "beta = np.array([-7.5, -7.5])\n",
    "sabit = 0.0\n",
    "\n",
    "olasi = 1 / (1 + np.exp(-np.array([xx.ravel(), yy.ravel()]).T @ beta + sabit))\n",
    "olasi = olasi.reshape(xx.shape)\n",
    "\n",
    "plt.contourf(xx, yy, olasi)\n",
    "plt.colorbar().set_label(\"$h(x)$\")\n",
    "plt.scatter(*X.T, c=y);\n",
    "plt.xlabel(\"$x_1$\")\n",
    "plt.ylabel(\"$x_2$\")"
   ]
  },
  {
   "attachments": {},
   "cell_type": "markdown",
   "metadata": {},
   "source": [
    "Guncelleme kuralimizin bir iterasyonunu yapalim:"
   ]
  },
  {
   "attachments": {},
   "cell_type": "markdown",
   "metadata": {},
   "source": [
    "Ilk maliyet:"
   ]
  },
  {
   "cell_type": "code",
   "execution_count": 176,
   "metadata": {},
   "outputs": [
    {
     "data": {
      "text/plain": [
       "805.6560939291887"
      ]
     },
     "execution_count": 176,
     "metadata": {},
     "output_type": "execute_result"
    }
   ],
   "source": [
    "z = X @ beta + sabit\n",
    "yhat = 1 / (1 + np.exp(-z))\n",
    "\n",
    "bce(y, yhat).sum()"
   ]
  },
  {
   "attachments": {},
   "cell_type": "markdown",
   "metadata": {},
   "source": [
    "\n",
    "\n",
    "$$ \\frac{dJ}{d \\beta} =X_i^T (\\frac{1 - Y_i}{1 - \\hat{Y}_i} - \\frac{Y_i}{\\hat{Y}_i}) (1 - \\hat{Y_i}) \\hat{Y_i}  $$\n"
   ]
  },
  {
   "cell_type": "code",
   "execution_count": 177,
   "metadata": {},
   "outputs": [],
   "source": [
    "# lineer kisim Z'yi hesapla\n",
    "z = X @ beta + sabit\n",
    "\n",
    "# Hipotezin ciktisi\n",
    "yhat = 1 / (1 + np.exp(-z))\n",
    "\n",
    "dJdyhat = (1 - y)/(1 - yhat) - y/yhat\n",
    "dyhatdz = yhat * (1 - yhat)\n",
    "dzdbeta = X.T\n",
    "\n",
    "dbeta = dzdbeta @ (dJdyhat * dyhatdz)\n",
    "dsabit = (dJdyhat * dyhatdz).sum()\n",
    "\n",
    "beta = beta - 1e-2 * dbeta\n",
    "sabit = sabit - 1e-2 * dsabit"
   ]
  },
  {
   "attachments": {},
   "cell_type": "markdown",
   "metadata": {},
   "source": [
    "Guncellemeden sonra yeni maliyet:"
   ]
  },
  {
   "cell_type": "code",
   "execution_count": 178,
   "metadata": {},
   "outputs": [
    {
     "data": {
      "text/plain": [
       "746.7450872482625"
      ]
     },
     "execution_count": 178,
     "metadata": {},
     "output_type": "execute_result"
    }
   ],
   "source": [
    "z = X @ beta + sabit\n",
    "yhat = 1 / (1 + np.exp(-z))\n",
    "\n",
    "bce(y, yhat).sum()"
   ]
  },
  {
   "attachments": {},
   "cell_type": "markdown",
   "metadata": {},
   "source": [
    "Bu katsayi guncelleme islemini bir dongu ile optimal sonuca erisene kadar yapabiliriz."
   ]
  },
  {
   "attachments": {},
   "cell_type": "markdown",
   "metadata": {},
   "source": [
    "### Regularizasyon ?\n",
    "\n",
    "Mukemmel bir lineer ayrimin soz konusu olmasi durumunda, optimal maliyet ($0$), ancak parametreler sonsuza gittiginde elde edilebilir.\n",
    "\n",
    "Ayrica, datasetimizde gereksiz degiskenlerin varligi ve *overfitting* durumlari da parametrelerin regularize edilmesine yol acacak ihtiyaclar arasinda sayilabilir."
   ]
  },
  {
   "attachments": {},
   "cell_type": "markdown",
   "metadata": {},
   "source": [
    "Parametrelerin buyumesini engellemek icin, maliyet fonksiyonumuza parametrelerin mutlak buyuklukleri ile artacak bir terim ekleyebiliriz.\n",
    "\n",
    "Bu durumda modelimiz, kullanilmasi gerekmeyen (kullanilmasi durumunda ayrima buyuk katki saglamayan) parametrelerin degerini $0$'a yaklastirabilir."
   ]
  },
  {
   "attachments": {},
   "cell_type": "markdown",
   "metadata": {},
   "source": [
    "$$J(\\hat{Y}, \\beta) = (\\sum_{i=0}^{m-1}{-Y_i \\log{\\hat{Y}_i} - (1 - Y_i) \\log{(1 - \\hat{Y}_i)}}) + \\frac{1}{2}\\lambda \\sum_{j}{\\beta_j^2}$$"
   ]
  },
  {
   "attachments": {},
   "cell_type": "markdown",
   "metadata": {},
   "source": [
    "Bu durumda katsayilarimiza gore turev ifadesine, onceki hesaplamamiza ek olarak $\\lambda \\beta$ eklememiz yeterli olacaktir."
   ]
  },
  {
   "attachments": {},
   "cell_type": "markdown",
   "metadata": {},
   "source": [
    "$$ \\frac{dJ}{d \\beta} =X_i^T (\\frac{1 - Y_i}{1 - \\hat{Y}_i} - \\frac{Y_i}{\\hat{Y}_i}) (1 - \\hat{Y_i}) \\hat{Y_i} + \\lambda \\beta $$\n"
   ]
  },
  {
   "attachments": {},
   "cell_type": "markdown",
   "metadata": {},
   "source": [
    "Ornek olarak, asagidaki dataseti ele alalim:"
   ]
  },
  {
   "attachments": {},
   "cell_type": "markdown",
   "metadata": {},
   "source": [
    "$b=0$ icin, maliyeti minimum yapan $a$ katsayisi sizce kactir?"
   ]
  },
  {
   "cell_type": "code",
   "execution_count": 179,
   "metadata": {},
   "outputs": [
    {
     "data": {
      "application/vnd.jupyter.widget-view+json": {
       "model_id": "443e1ea61ebc41ee8aeb679b64111fb7",
       "version_major": 2,
       "version_minor": 0
      },
      "text/plain": [
       "interactive(children=(IntSlider(value=0, description='a', max=50, min=-50), IntSlider(value=0, description='b'…"
      ]
     },
     "metadata": {},
     "output_type": "display_data"
    }
   ],
   "source": [
    "dummy_x = np.array([-3, -2, -1, 1, 2, 3])\n",
    "dummy_y = np.array([0, 0, 0, 1, 1, 1])\n",
    "\n",
    "@interact\n",
    "def sigregviz(a=(-50,50,1), b=(-5, 5, 1)):\n",
    "    plt.scatter(dummy_x, dummy_y, c=np.log(sigmoid(a*dummy_x + b)))\n",
    "    plt.colorbar()\n",
    "    t = np.linspace(-4, 4, 1000)\n",
    "    plt.plot(t, sigmoid(a*t + b), label=\"sigmoid\")\n",
    "    plt.title(f\"Kayip={bce(dummy_y, sigmoid(a*dummy_x + b)).sum()}\")\n",
    "    # plt.plot(dummy_x, a*dummy_x + b)\n",
    "    # plt.show()\n"
   ]
  },
  {
   "attachments": {},
   "cell_type": "markdown",
   "metadata": {},
   "source": [
    "Asagidaki hucrede ise interaktif bir sekilde iterasyonlari arttirarak adim adim:\n",
    "- hipotez fonksiyonumuzun ciktisinin degisimini,\n",
    "- maliyetin degisimini,\n",
    "- parametrelerimizin izledigi yolu\n",
    "\n",
    "gorebilirsiniz."
   ]
  },
  {
   "cell_type": "code",
   "execution_count": 168,
   "metadata": {},
   "outputs": [
    {
     "data": {
      "text/plain": [
       "1.000000082790371e-10"
      ]
     },
     "execution_count": 168,
     "metadata": {},
     "output_type": "execute_result"
    }
   ],
   "source": [
    "bce(1, 0.9999999999)"
   ]
  },
  {
   "cell_type": "code",
   "execution_count": 169,
   "metadata": {},
   "outputs": [
    {
     "data": {
      "text/plain": [
       "1.0"
      ]
     },
     "execution_count": 169,
     "metadata": {},
     "output_type": "execute_result"
    }
   ],
   "source": [
    "1 / (1 + np.exp(-99))"
   ]
  },
  {
   "cell_type": "code",
   "execution_count": 163,
   "metadata": {},
   "outputs": [],
   "source": [
    "import warnings"
   ]
  },
  {
   "cell_type": "code",
   "execution_count": 181,
   "metadata": {},
   "outputs": [
    {
     "data": {
      "application/vnd.jupyter.widget-view+json": {
       "model_id": "c040478b02d443418e2e7210290651a3",
       "version_major": 2,
       "version_minor": 0
      },
      "text/plain": [
       "interactive(children=(IntSlider(value=0, description='iterasyon', max=50), FloatSlider(value=0.0, description=…"
      ]
     },
     "metadata": {},
     "output_type": "display_data"
    }
   ],
   "source": [
    "@interact(iterasyon=(0,50,1), regularizasyon_etkisi=(0., 1., 0.1), ogrenme_orani=[0.5, 0.1, 0.01, 0.001])\n",
    "def gradyanviz(iterasyon=0, regularizasyon_etkisi=0.0, ogrenme_orani=0.01):\n",
    "    beta = np.array([-7.5, -7.5])\n",
    "    sabit = 0.0\n",
    "    maliyetler = []\n",
    "    betayolu = [beta]\n",
    "    LR = ogrenme_orani\n",
    "    LAMDA = regularizasyon_etkisi\n",
    "\n",
    "    for _ in range(iterasyon):\n",
    "        z = X @ beta + sabit\n",
    "        yhat = 1 / (1 + np.exp(-z))\n",
    "\n",
    "        dbeta = X.T @ (  ((1 - y)/(1 - yhat) - y/yhat) * (1 - yhat) * yhat )\n",
    "        dsabit = (  ((1 - y)/(1 - yhat) - y/yhat) * (1 - yhat) * yhat ).sum()\n",
    "\n",
    "        # REGULARIZASYON KISMI: LAMBDA * beta\n",
    "        beta = beta - LR * dbeta - LR * LAMDA * beta \n",
    "        \n",
    "        betayolu.append(beta)\n",
    "        # sabit = sabit - LR * dsabit\n",
    "        maliyet = -np.sum(y * np.log(yhat) + (1 - y) * np.log(1 - yhat)) + LAMDA * (beta**2).sum()\n",
    "        maliyetler.append(maliyet)\n",
    "    \n",
    "    olasi = 1 / (1 + np.exp(-np.array([xx.ravel(), yy.ravel()]).T @ beta + sabit))\n",
    "    olasi = olasi.reshape(xx.shape)\n",
    "\n",
    "    plt.figure(figsize=(18, 6))\n",
    "    plt.subplot(1, 4, 1)\n",
    "    plt.contourf(xx, yy, olasi, levels=3)\n",
    "    plt.scatter(*X.T, c=y, edgecolors='k')\n",
    "    plt.title(f\"beta={beta}, intersept={sabit}\");\n",
    "    plt.subplot(1, 4, 2)\n",
    "    plt.plot(maliyetler[-10:], marker='o')\n",
    "    # plt.ylim(-3, 120)\n",
    "    plt.grid()\n",
    "    plt.xlabel(\"Iterasyon\")\n",
    "    plt.ylabel(\"Maliyet\")\n",
    "    plt.title(\"Maliyet (Son 10)\")\n",
    "\n",
    "    plt.subplot(1, 4, 3)\n",
    "    bb0, bb1 = np.meshgrid(np.linspace(-10, 10, 100), np.linspace(-10, 10, 100))\n",
    "    bb = np.array([bb0.ravel(), bb1.ravel()]).T\n",
    "    ll = (X @ bb.T)\n",
    "    pp = 1 / (1 + np.exp(-ll))\n",
    "    with warnings.catch_warnings():\n",
    "        warnings.simplefilter(\"ignore\")\n",
    "        jj = -np.log(pp) * y[:, None] - np.log(1 - pp) * (1 - y[:, None])\n",
    "    jj = jj.sum(axis=0).reshape(bb0.shape) + LAMDA * (bb0**2 + bb1**2)\n",
    "    # print(jj.min(), jj.max())\n",
    "\n",
    "    plt.contourf(bb0, bb1, np.log(jj))\n",
    "    plt.xlabel(\"beta0\")\n",
    "    plt.ylabel(\"beta1\")\n",
    "    plt.title(\"Katsayilarin izledigi yol\")\n",
    "    aze = plt.plot(*np.array(betayolu).T, c='r', marker='o')\n",
    "\n",
    "    plt.subplot(1, 4, 4)\n",
    "    betayolu = np.array(betayolu)\n",
    "    aze = plt.plot(*np.array(betayolu)[-15:].T, c='r', marker='o')[0]\n",
    "    # print(aze)\n",
    "    xlim = aze.axes.get_xlim()\n",
    "    ylim = aze.axes.get_ylim()\n",
    "    \n",
    "\n",
    "    bb0, bb1 = np.meshgrid(np.linspace(*xlim, 100), np.linspace(*ylim, 100))\n",
    "    bb = np.array([bb0.ravel(), bb1.ravel()]).T\n",
    "    ll = (X @ bb.T)\n",
    "    pp = 1 / (1 + np.exp(-ll))\n",
    "    jj = -np.log(pp) * y[:, None] - np.log(1 - pp) * (1 - y[:, None])\n",
    "    jj = jj.sum(axis=0).reshape(bb0.shape) + LAMDA * (bb0**2 + bb1**2)\n",
    "    # print(jj.min(), jj.max())\n",
    "\n",
    "    plt.contourf(bb0, bb1, np.log(jj))\n",
    "    plt.xlabel(\"beta0\")\n",
    "    plt.ylabel(\"beta1\")\n",
    "    plt.title(\"Katsayilarin izledigi yol (Son 10)\")\n",
    "    aze = plt.plot(*np.array(betayolu)[-10:].T, c='r', marker='o')\n"
   ]
  },
  {
   "cell_type": "code",
   "execution_count": null,
   "metadata": {},
   "outputs": [],
   "source": []
  },
  {
   "attachments": {},
   "cell_type": "markdown",
   "metadata": {},
   "source": [
    "### Hipotezimizin logit kismi: g(x)"
   ]
  },
  {
   "attachments": {},
   "cell_type": "markdown",
   "metadata": {},
   "source": [
    "Hipotez fonksiyonumuzun\n",
    "\n",
    "$$h(x) = \\frac{1}{1 + e^{-g(x)}}$$\n",
    "\n",
    "seklinde ifade edilebileceginden bahsedip, logit kismi $g(x)$ icin lineer bir fonksiyon ($g(x) = {X\\beta}$) kullanarak bir tasniflendirme denemesi yaptik.\n",
    "\n",
    "Eger zincir kuralini kullanacaksak, $g(x)$'i daha kompleks (ve daha guclu) bir hale getiremez miyiz?\n",
    "\n"
   ]
  },
  {
   "attachments": {},
   "cell_type": "markdown",
   "metadata": {},
   "source": [
    "Ornegin, asagidaki gibi cok katmanli bir sistem, benzer adimlar izleyerek optimize edilebilir mi?"
   ]
  },
  {
   "attachments": {},
   "cell_type": "markdown",
   "metadata": {},
   "source": [
    "![](graph.png)"
   ]
  },
  {
   "attachments": {},
   "cell_type": "markdown",
   "metadata": {},
   "source": [
    "## Cok katmanli perceptron (MLP - multilayer perceptron)"
   ]
  },
  {
   "attachments": {},
   "cell_type": "markdown",
   "metadata": {},
   "source": [
    "Cok katmanli perceptron icin, yukaridaki semayi baz alarak bir sistem kurabiliriz.\n",
    "\n",
    "Ihtiyacimiz olanlar:\n",
    "- $\\beta_1$\n",
    "- $sabit_1$\n",
    "- $\\beta_2$\n",
    "- $sabit_2$"
   ]
  },
  {
   "cell_type": "code",
   "execution_count": 180,
   "metadata": {},
   "outputs": [
    {
     "data": {
      "text/plain": [
       "<matplotlib.collections.PathCollection at 0x27a29e16670>"
      ]
     },
     "execution_count": 180,
     "metadata": {},
     "output_type": "execute_result"
    },
    {
     "data": {
      "image/png": "[encoded data removed]",
      "text/plain": [
       "<Figure size 640x480 with 1 Axes>"
      ]
     },
     "metadata": {},
     "output_type": "display_data"
    }
   ],
   "source": [
    "beta1 = np.array([[-5.0, 2.5], [1.0, 1.0]])\n",
    "sabit1 = np.array([0.0, 0.0])\n",
    "beta2 = np.array([-5.0, 2.5])\n",
    "sabit2 = 0.0\n",
    "\n",
    "def forward(X, beta1, sabit1, beta2, sabit2):\n",
    "    z1 = X @ beta1 + sabit1\n",
    "    a1 = 1 / (1 + np.exp(-z1))\n",
    "    z2 = a1 @ beta2 + sabit2\n",
    "    return z2\n",
    "\n",
    "\n",
    "\n",
    "z = forward(np.array([xx.ravel(), yy.ravel()]).T, beta1, sabit1, beta2, sabit2)\n",
    "olasi = 1 / (1 + np.exp(- z))\n",
    "olasi = olasi.reshape(xx.shape)\n",
    "\n",
    "plt.contourf(xx, yy, olasi)\n",
    "plt.scatter(*X.T, c=y)"
   ]
  },
  {
   "attachments": {},
   "cell_type": "markdown",
   "metadata": {},
   "source": [
    "Cok katmanli perceptron ile ilgili hipotez fonksiyonunda gozumuze ilk carpan detay nedir?"
   ]
  },
  {
   "attachments": {},
   "cell_type": "markdown",
   "metadata": {},
   "source": [
    "Cok katmanli perceptron'umuzun ciktisini hesaplamak icin kullandigimiz adimlari yazarsak:\n",
    "\n",
    "(sigmoid fonksiyonunu $\\sigma(x)$ olarak gostererek)"
   ]
  },
  {
   "attachments": {},
   "cell_type": "markdown",
   "metadata": {},
   "source": [
    "$$Z_1 = X \\beta_1 + sabit_1$$\n",
    "$$A_1 = \\sigma(Z_1) $$\n",
    "$$Z_2 = A_1 \\beta_2 + sabit_2$$\n",
    "$$A_2 = \\sigma(Z_2)$$\n",
    "$$\\hat{Y} = A_2$$\n",
    "$$ J(\\hat{Y}) = \\sum_{i=0}^{m-1}{-Y_i \\log{\\hat{Y}_i} - (1 - Y_i) \\log{(1 - \\hat{Y}_i)}} $$"
   ]
  },
  {
   "attachments": {},
   "cell_type": "markdown",
   "metadata": {},
   "source": [
    "Yukaridaki gorece basit sistemde kullandigimiz zincir kurali ile bu sistemi de optimize edebilir miyiz?"
   ]
  },
  {
   "attachments": {},
   "cell_type": "markdown",
   "metadata": {},
   "source": [
    "$$ \\frac{dJ}{d\\beta_2} = \\frac{dJ}{d\\hat{Y_i}} \\frac{d \\hat{Y_i}}{d Z_2} \\frac{d Z_2}{d \\beta_2}$$\n",
    "$$ \\frac{dJ}{dsabit_2} = \\frac{dJ}{d\\hat{Y_i}} \\frac{d \\hat{Y_i}}{d Z_2}$$\n",
    "$$ \\frac{dJ}{d\\beta_1} = \\frac{dJ}{d\\hat{Y_i}} \\frac{d \\hat{Y_i}}{d Z_2} \\frac{d Z_2}{d A_1} \\frac{d A_1}{d Z_1} \\frac{dZ_1}{d\\beta_1}$$\n",
    "$$ \\frac{dJ}{dsabit_1} = \\frac{dJ}{d\\hat{Y_i}} \\frac{d \\hat{Y_i}}{d Z_2} \\frac{d Z_2}{d A_1} \\frac{d A_1}{d Z_1}$$"
   ]
  },
  {
   "attachments": {},
   "cell_type": "markdown",
   "metadata": {},
   "source": [
    "Bazi parametrelerin turevlerinin ilk sistemimizden hicbir farki olmadigini gorurken, sistemde geriye (semada sol tarafa) gittikce yalnizca ek carpanlar eklendigini goruyoruz."
   ]
  },
  {
   "attachments": {},
   "cell_type": "markdown",
   "metadata": {},
   "source": [
    "Bir iterasyon icin guncelleme kuralimizi yazalim:"
   ]
  },
  {
   "attachments": {},
   "cell_type": "markdown",
   "metadata": {},
   "source": [
    "##### Baslatma\n",
    "\n",
    "Parametrelerimiz icin baslangic degerleri secelim (rastgele degerler sectik):"
   ]
  },
  {
   "cell_type": "code",
   "execution_count": 183,
   "metadata": {},
   "outputs": [],
   "source": [
    "beta1 = np.array([[-5.0, 2.5], [1.0, 1.0]])\n",
    "sabit1 = np.array([0.0, 0.0])\n",
    "beta2 = np.array([[-5.0], [2.5]])\n",
    "sabit2 = 0.0\n",
    "alpha = 1e-1 # Ogrenme orani"
   ]
  },
  {
   "attachments": {},
   "cell_type": "markdown",
   "metadata": {},
   "source": [
    "##### Ileri besleme\n",
    "\n",
    "Bu kisimda orneklerimizi, sistemimizde ilerleterek tahminimizi yapacagiz"
   ]
  },
  {
   "cell_type": "code",
   "execution_count": 184,
   "metadata": {},
   "outputs": [],
   "source": [
    "z1 = X @ beta1 + sabit1\n",
    "a1 = sigmoid(z1)\n",
    "z2 = a1 @ beta2 + sabit2\n",
    "yhat = sigmoid(z2)"
   ]
  },
  {
   "attachments": {},
   "cell_type": "markdown",
   "metadata": {},
   "source": [
    "Baslangic maliyetimiz:"
   ]
  },
  {
   "cell_type": "code",
   "execution_count": 185,
   "metadata": {},
   "outputs": [],
   "source": [
    "y1 = y[:, None]"
   ]
  },
  {
   "cell_type": "code",
   "execution_count": 186,
   "metadata": {},
   "outputs": [
    {
     "data": {
      "text/plain": [
       "87.07174755348314"
      ]
     },
     "execution_count": 186,
     "metadata": {},
     "output_type": "execute_result"
    }
   ],
   "source": [
    "bce(y1, yhat).sum()"
   ]
  },
  {
   "attachments": {},
   "cell_type": "markdown",
   "metadata": {},
   "source": [
    "##### Geri yayilim (Backpropagation)\n",
    "\n",
    "Bu kisimda ise, ortaya cikan hatanin turevini geri dogru zincirleme bir sekilde alacagiz"
   ]
  },
  {
   "cell_type": "code",
   "execution_count": 187,
   "metadata": {},
   "outputs": [],
   "source": [
    "dyhat = (1 - y1) / (1 - yhat) - (y1 / yhat)\n",
    "dz2 = yhat * (1 - yhat) * dyhat\n",
    "\n",
    "dbeta2 = a1.T @ (dz2)\n",
    "dsabit2 = (dz2).sum()\n",
    "\n",
    "da1 = dz2 @ beta2.T\n",
    "dz1 = a1 * (1 - a1) * da1\n",
    "\n",
    "dbeta1 = X.T @ dz1\n",
    "dsabit1 = dz1.sum(axis=0)"
   ]
  },
  {
   "attachments": {},
   "cell_type": "markdown",
   "metadata": {},
   "source": [
    "Guncellemelerimizi yapalim:"
   ]
  },
  {
   "cell_type": "code",
   "execution_count": 188,
   "metadata": {},
   "outputs": [],
   "source": [
    "beta1 = beta1 - alpha * dbeta1\n",
    "sabit1 = sabit1 - alpha * dsabit1\n",
    "\n",
    "beta2 = beta2 - alpha * dbeta2\n",
    "sabit2 = sabit2 - alpha * dsabit2"
   ]
  },
  {
   "attachments": {},
   "cell_type": "markdown",
   "metadata": {},
   "source": [
    "Yeni maliyetimizi kontrol edelim:"
   ]
  },
  {
   "cell_type": "code",
   "execution_count": 189,
   "metadata": {},
   "outputs": [
    {
     "data": {
      "text/plain": [
       "50.25753798357398"
      ]
     },
     "execution_count": 189,
     "metadata": {},
     "output_type": "execute_result"
    }
   ],
   "source": [
    "# ileri besleme\n",
    "z1 = X @ beta1 + sabit1\n",
    "a1 = sigmoid(z1)\n",
    "z2 = a1 @ beta2 + sabit2\n",
    "yhat = sigmoid(z2)\n",
    "\n",
    "# hata hesaplama\n",
    "bce(y1, yhat).sum()"
   ]
  },
  {
   "attachments": {},
   "cell_type": "markdown",
   "metadata": {},
   "source": [
    "Parcalari birlestirip, guncellememizi verilen bir iterasyon sayisi kadar tekrar edelim:"
   ]
  },
  {
   "cell_type": "code",
   "execution_count": 201,
   "metadata": {},
   "outputs": [],
   "source": [
    "np.random.seed(42)\n",
    "beta1 = np.array([[-5.0, 2.5], [1.0, 1.0]])\n",
    "sabit1 = np.array([0.0, 0.0])\n",
    "beta2 = np.array([[-5.0], [2.5]])\n",
    "sabit2 = 0.0\n",
    "maliyetler = []\n",
    "alpha = 1e-1\n",
    "# betayolu = [beta]\n",
    "iterasyon = 20\n",
    "\n",
    "for _ in range(iterasyon):\n",
    "    z1 = X @ beta1 + sabit1\n",
    "    a1 = sigmoid(z1)\n",
    "    z2 = a1 @ beta2 + sabit2\n",
    "    yhat = sigmoid(z2)\n",
    "\n",
    "    dyhat = (1 - y1) / (1 - yhat) - (y1 / yhat)\n",
    "    dz2 = yhat * (1 - yhat) * dyhat\n",
    "\n",
    "    dbeta2 = a1.T @ (dz2)\n",
    "    dsabit2 = (dz2).sum()\n",
    "\n",
    "    da1 = dz2 @ beta2.T\n",
    "    dz1 = a1 * (1 - a1) * da1\n",
    "\n",
    "    dbeta1 = X.T @ dz1\n",
    "    dsabit1 = dz1.sum(axis=0)\n",
    "\n",
    "    beta1 = beta1 - alpha * dbeta1\n",
    "    sabit1 = sabit1 - alpha * dsabit1\n",
    "\n",
    "    beta2 = beta2 - alpha * dbeta2\n",
    "    sabit2 = sabit2 - alpha * dsabit2\n",
    "\n",
    "    # dbeta = X.T @ (  ((1 - y)/(1 - yhat) - y/yhat) * (1 - yhat) * yhat )\n",
    "    # dsabit = (  ((1 - y)/(1 - yhat) - y/yhat) * (1 - yhat) * yhat ).sum()\n",
    "\n",
    "    # beta = beta - alpha * dbeta\n",
    "    # betayolu.append(beta)\n",
    "    # sabit = sabit - alpha * dsabit\n",
    "    maliyet = bce(y1, yhat).sum()\n",
    "    maliyetler.append(maliyet)"
   ]
  },
  {
   "cell_type": "code",
   "execution_count": 202,
   "metadata": {},
   "outputs": [
    {
     "data": {
      "text/plain": [
       "Text(0, 0.5, 'Maliyet')"
      ]
     },
     "execution_count": 202,
     "metadata": {},
     "output_type": "execute_result"
    },
    {
     "data": {
      "image/png": "[encoded data removed]",
      "text/plain": [
       "<Figure size 640x480 with 1 Axes>"
      ]
     },
     "metadata": {},
     "output_type": "display_data"
    }
   ],
   "source": [
    "plt.plot(maliyetler, marker='o')\n",
    "plt.xlabel(\"Iterasyon\")\n",
    "plt.ylabel(\"Maliyet\")"
   ]
  },
  {
   "attachments": {},
   "cell_type": "markdown",
   "metadata": {},
   "source": [
    "Hipotez fonksiyonumuzun ciktisi:"
   ]
  },
  {
   "cell_type": "code",
   "execution_count": 192,
   "metadata": {},
   "outputs": [
    {
     "data": {
      "text/plain": [
       "<matplotlib.collections.PathCollection at 0x27a26ff5520>"
      ]
     },
     "execution_count": 192,
     "metadata": {},
     "output_type": "execute_result"
    },
    {
     "data": {
      "image/png": "[encoded data removed]",
      "text/plain": [
       "<Figure size 640x480 with 2 Axes>"
      ]
     },
     "metadata": {},
     "output_type": "display_data"
    }
   ],
   "source": [
    "XXravel = np.array([xx.ravel(), yy.ravel()]).T\n",
    "ZZ1 = XXravel @ beta1 + sabit1\n",
    "AA1 = sigmoid(ZZ1)\n",
    "ZZ2 = AA1 @ beta2 + sabit2\n",
    "AA2 = sigmoid(ZZ2)\n",
    "\n",
    "AA2 = AA2.reshape(xx.shape)\n",
    "\n",
    "plt.contourf(xx, yy, AA2, cmap='RdYlBu')\n",
    "plt.colorbar()\n",
    "plt.scatter(*X.T, c=y)"
   ]
  },
  {
   "attachments": {},
   "cell_type": "markdown",
   "metadata": {},
   "source": [
    "Kodumuzu daha moduler bir hale getirmek icin, parcalari tekrar tekrar kullanilabilir fonksiyonlara cevirelim:"
   ]
  },
  {
   "cell_type": "code",
   "execution_count": 193,
   "metadata": {},
   "outputs": [],
   "source": [
    "def feedForward(X, beta1, sabit1, beta2, sabit2):\n",
    "    \"\"\"Ileri beslemeyi tatbik et.\n",
    "    \n",
    "    Ileri besleme, verilen datanin katsayilarla carpilip sabitlerle toplanmasi\n",
    "    ve belirlenen donusumlerin yapilmasindan sonra hipotez fonksiyonunun\n",
    "    ciktisinin alinmasi islemi olacaktir.\n",
    "    \"\"\"\n",
    "    z1 = X @ beta1 + sabit1\n",
    "    a1 = sigmoid(z1)\n",
    "    z2 = a1 @ beta2 + sabit2\n",
    "    yhat = sigmoid(z2)\n",
    "    return yhat, a1\n",
    "\n",
    "def backPropagate(X, y, beta1, sabit1, beta2, sabit2, a1, yhat, alpha):\n",
    "    \"\"\"Geri yayilimi tatbik et.\n",
    "    \n",
    "    Ileri beslemede elde edilen hatanin, sistem boyunca geri dogru yayilarak\n",
    "    katsayi ve sabitlerin guncellenmesini saglayan fonksiyon.\n",
    "    \"\"\"\n",
    "    dyhat = (1 - y) / (1 - yhat) - (y / yhat)\n",
    "    dz2 = yhat * (1 - yhat) * dyhat\n",
    "    dbeta2 = a1.T @ (dz2)\n",
    "    dsabit2 = (dz2).sum()\n",
    "\n",
    "    da1 = dz2 @ beta2.T\n",
    "    dz1 = a1 * (1 - a1) * da1\n",
    "    dbeta1 = X.T @ dz1\n",
    "    dsabit1 = dz1.sum(axis=0)\n",
    "\n",
    "    beta1 = beta1 - alpha * dbeta1\n",
    "    sabit1 = sabit1 - alpha * dsabit1\n",
    "\n",
    "    beta2 = beta2 - alpha * dbeta2\n",
    "    sabit2 = sabit2 - alpha * dsabit2\n",
    "    return beta1, sabit1, beta2, sabit2"
   ]
  },
  {
   "attachments": {},
   "cell_type": "markdown",
   "metadata": {},
   "source": [
    "#### Daha kompleks karar sinirlari\n",
    "\n",
    "Elimizdeki sistemi kullanarak, daha zor (lineer olarak ayrilmayan) bir verisetini tasniflendirmeyi deneyebiliriz."
   ]
  },
  {
   "cell_type": "code",
   "execution_count": 204,
   "metadata": {},
   "outputs": [],
   "source": [
    "X, y = datasets.make_circles()\n",
    "y1 = y[:, None]"
   ]
  },
  {
   "cell_type": "code",
   "execution_count": 205,
   "metadata": {},
   "outputs": [
    {
     "data": {
      "image/png": "[encoded data removed]",
      "text/plain": [
       "<Figure size 640x480 with 1 Axes>"
      ]
     },
     "metadata": {},
     "output_type": "display_data"
    }
   ],
   "source": [
    "plt.scatter(*X.T, c=y);"
   ]
  },
  {
   "attachments": {},
   "cell_type": "markdown",
   "metadata": {},
   "source": [
    "Asagidaki interaktif hucrede iterasyonlara sari olarak hipotez fonksiyonunun ciktisinin degisimini gozlemleyebilirsiniz.\n",
    "\n",
    "> Ek olarak, sagdaki sekilde gizli katmanin ciktisini (3 boyutlu) gormektesiniz.\n",
    "\n",
    "(Bu kez daha sabirli olmamiz gerekecek.)"
   ]
  },
  {
   "cell_type": "code",
   "execution_count": 196,
   "metadata": {},
   "outputs": [
    {
     "data": {
      "application/vnd.jupyter.widget-view+json": {
       "model_id": "2ed45562aad948afb1af021834a77d5b",
       "version_major": 2,
       "version_minor": 0
      },
      "text/plain": [
       "interactive(children=(IntSlider(value=0, description='iterasyon', max=5000, step=100), Output()), _dom_classes…"
      ]
     },
     "metadata": {},
     "output_type": "display_data"
    }
   ],
   "source": [
    "def graphviz(iterasyon=0):\n",
    "\n",
    "    # Baslangic degerleri\n",
    "    np.random.seed(42)\n",
    "    GIZLI_KATMAN_BOYUTU = 3\n",
    "    beta1 = np.random.randn(2, GIZLI_KATMAN_BOYUTU)\n",
    "    sabit1 = np.zeros(GIZLI_KATMAN_BOYUTU)\n",
    "    beta2 = np.random.randn(GIZLI_KATMAN_BOYUTU, 1)\n",
    "    sabit2 = 0.0\n",
    "    alpha = 1e-2\n",
    "\n",
    "    # Diyagnostik icin\n",
    "    maliyetler = []\n",
    "\n",
    "    # Optimizasyon\n",
    "    for _ in range(iterasyon):\n",
    "        yhat, a1 = feedForward(X, beta1, sabit1, beta2, sabit2)\n",
    "        beta1, sabit1, beta2, sabit2 = backPropagate(X, y1, beta1, sabit1, beta2, sabit2, a1, yhat, alpha)\n",
    "\n",
    "        maliyet = bce(y1, yhat)\n",
    "        maliyet = np.sum(maliyet)\n",
    "        maliyetler.append(maliyet)\n",
    "\n",
    "    # Gorseller\n",
    "    olasi = feedForward(np.array([xx.ravel(), yy.ravel()]).T, beta1, sabit1, beta2, sabit2)[0]    \n",
    "    olasi = olasi.reshape(xx.shape)\n",
    "\n",
    "    fig = plt.figure(figsize=(16, 8))\n",
    "    plt.subplot(1, 2, 1)\n",
    "    plt.contourf(xx, yy, olasi, vmin=0, vmax=1, cmap=plt.cm.bone_r, levels=40)\n",
    "    plt.colorbar().set_label('$\\hat{y}$')\n",
    "    plt.scatter(*X.T, c=y, edgecolors='k')\n",
    "    plt.title(\"Hipotez fonksiyonu ciktisi (dataset uzayi)\")\n",
    "\n",
    "    if iterasyon > 0:\n",
    "        # fig = plt.figure(figsize=(16, 8))\n",
    "        ax = fig.add_subplot(1,2, 2,projection='3d', elev=45, azim=45)\n",
    "        ax.scatter(a1[:, 0], a1[:, 1], a1[:, 2], c=y)\n",
    "        ax.set_title(\"Gizli katman ciktisi (Gizli katman uzayi)\")\n",
    "        ax.set_xlabel(\"$hucre_1$\")\n",
    "        ax.set_ylabel(\"$hucre_2$\")\n",
    "        ax.set_zlabel(\"$hucre_3$\")\n",
    "    else:\n",
    "        ax = fig.add_subplot(1,2, 2,projection='3d', elev=45, azim=45)\n",
    "        ax.set_title(\"Gizli katman ciktisi (Gizli katman uzayi)\")\n",
    "        ax.set_xlabel(\"$hucre_1$\")\n",
    "        ax.set_ylabel(\"$hucre_2$\")\n",
    "        ax.set_zlabel(\"$hucre_3$\")\n",
    "\n",
    "interact(iterasyon=(0,5000,100))(graphviz);"
   ]
  },
  {
   "attachments": {},
   "cell_type": "markdown",
   "metadata": {},
   "source": [
    "MLP, orjinal dataset uzayini 3 boyutlu (ya da konfigurasyona gore daha da yuksek boyutlu) bir uzaya haritaliyor.\n",
    "\n",
    "> Bu haritalamada dikkatinizi ceken bir durum var mi? \n",
    ">- 5000. iterasyonda, gizli katman uzayinda, siyah ve sari noktalari tam olarak ayirabilecek bir duzlem kullanilabilir mi?\n",
    ">- Gizli katman uzayinda noktalar, aralarina bir duzlem girebilecek duruma geldiginde soldaki sekilde ne goruyorsunuz?\n",
    ">- Hipotez fonksiyonu ile siniflar uyumsuzken, gizli katman uzayinda noktalarin durumu nedir?"
   ]
  },
  {
   "attachments": {},
   "cell_type": "markdown",
   "metadata": {},
   "source": [
    "Benzer bir haritalamayi `moons` datasetinde de inceleyebiliriz:"
   ]
  },
  {
   "cell_type": "code",
   "execution_count": 197,
   "metadata": {},
   "outputs": [],
   "source": [
    "X, y = datasets.make_moons()\n",
    "y1 = y[:, None]"
   ]
  },
  {
   "cell_type": "code",
   "execution_count": 198,
   "metadata": {},
   "outputs": [
    {
     "data": {
      "application/vnd.jupyter.widget-view+json": {
       "model_id": "ffd2f99835ea41d88b6bf9d4368e47b5",
       "version_major": 2,
       "version_minor": 0
      },
      "text/plain": [
       "interactive(children=(IntSlider(value=0, description='iterasyon', max=5000, step=100), Output()), _dom_classes…"
      ]
     },
     "metadata": {},
     "output_type": "display_data"
    }
   ],
   "source": [
    "# @lru_cache(maxsize=50000)\n",
    "def graphviz(iterasyon=0):\n",
    "\n",
    "    # Baslangic degerleri\n",
    "    np.random.seed(42)\n",
    "    GIZLI_KATMAN_BOYUTU = 3\n",
    "    beta1 = np.random.randn(2, GIZLI_KATMAN_BOYUTU)\n",
    "    sabit1 = np.zeros(GIZLI_KATMAN_BOYUTU)\n",
    "    beta2 = np.random.randn(GIZLI_KATMAN_BOYUTU, 1)\n",
    "    sabit2 = 0.0\n",
    "    alpha = 1e-2\n",
    "\n",
    "    # Diyagnostik icin\n",
    "    maliyetler = []\n",
    "\n",
    "    # Optimizasyon\n",
    "    for _ in range(iterasyon):\n",
    "        yhat, a1 = feedForward(X, beta1, sabit1, beta2, sabit2)\n",
    "        beta1, sabit1, beta2, sabit2 = backPropagate(X, y1, beta1, sabit1, beta2, sabit2, a1, yhat, alpha)\n",
    "\n",
    "        maliyet = bce(y1, yhat)\n",
    "        maliyet = np.sum(maliyet)\n",
    "        maliyetler.append(maliyet)\n",
    "\n",
    "    # Gorseller\n",
    "    olasi = feedForward(np.array([xx.ravel(), yy.ravel()]).T, beta1, sabit1, beta2, sabit2)[0]    \n",
    "    olasi = olasi.reshape(xx.shape)\n",
    "\n",
    "    fig = plt.figure(figsize=(16, 8))\n",
    "    plt.subplot(1, 2, 1)\n",
    "    plt.contourf(xx, yy, olasi, vmin=0, vmax=1, cmap=plt.cm.bone_r, levels=40)\n",
    "    plt.colorbar().set_label('$\\hat{y}$')\n",
    "    plt.scatter(*X.T, c=y, edgecolors='k')\n",
    "    plt.title(\"Hipotez fonksiyonu ciktisi (dataset uzayi)\")\n",
    "\n",
    "    if iterasyon > 0:\n",
    "        # fig = plt.figure(figsize=(16, 8))\n",
    "        ax = fig.add_subplot(1,2, 2,\n",
    "        projection='3d', elev=45, azim=45\n",
    "        )\n",
    "        ax.scatter(\n",
    "            a1[:, 0], \n",
    "            a1[:, 1], \n",
    "            a1[:, 2], \n",
    "            c=y)\n",
    "        ax.set_title(\"Gizli katman ciktisi (Gizli katman uzayi)\")\n",
    "        ax.set_xlabel(\"$hucre_1$\")\n",
    "        ax.set_ylabel(\"$hucre_2$\")\n",
    "        ax.set_zlabel(\"$hucre_3$\")\n",
    "    else:\n",
    "        ax = fig.add_subplot(1,2, 2,\n",
    "        projection='3d', elev=45, azim=45\n",
    "        )\n",
    "        ax.set_title(\"Gizli katman ciktisi (Gizli katman uzayi)\")\n",
    "        ax.set_xlabel(\"$hucre_1$\")\n",
    "        ax.set_ylabel(\"$hucre_2$\")\n",
    "        ax.set_zlabel(\"$hucre_3$\")\n",
    "\n",
    "interact(iterasyon=(0,5000,100))(graphviz);"
   ]
  },
  {
   "cell_type": "code",
   "execution_count": null,
   "metadata": {},
   "outputs": [],
   "source": []
  },
  {
   "cell_type": "code",
   "execution_count": null,
   "metadata": {},
   "outputs": [],
   "source": []
  },
  {
   "cell_type": "code",
   "execution_count": null,
   "metadata": {},
   "outputs": [],
   "source": []
  },
  {
   "cell_type": "code",
   "execution_count": null,
   "metadata": {},
   "outputs": [],
   "source": []
  },
  {
   "cell_type": "code",
   "execution_count": null,
   "metadata": {},
   "outputs": [],
   "source": []
  },
  {
   "cell_type": "code",
   "execution_count": null,
   "metadata": {},
   "outputs": [],
   "source": []
  },
  {
   "cell_type": "code",
   "execution_count": null,
   "metadata": {},
   "outputs": [],
   "source": []
  }
 ],
 "metadata": {
  "kernelspec": {
   "display_name": "Python 3.8.12 ('cons1')",
   "language": "python",
   "name": "python3"
  },
  "language_info": {
   "codemirror_mode": {
    "name": "ipython",
    "version": 3
   },
   "file_extension": ".py",
   "mimetype": "text/x-python",
   "name": "python",
   "nbconvert_exporter": "python",
   "pygments_lexer": "ipython3",
   "version": "3.9.13"
  },
  "orig_nbformat": 4,
  "vscode": {
   "interpreter": {
    "hash": "a571a25d3379e9645cc932b401c674531bbcf658e9b176b05ab9004deb2f65c4"
   }
  }
 },
 "nbformat": 4,
 "nbformat_minor": 2
}
